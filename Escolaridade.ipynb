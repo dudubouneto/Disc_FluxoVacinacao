{
  "nbformat": 4,
  "nbformat_minor": 0,
  "metadata": {
    "colab": {
      "name": "Escolaridade.ipynb",
      "provenance": [],
      "authorship_tag": "ABX9TyPIyQsPxmiCrWwZBg2nz0Vz",
      "include_colab_link": true
    },
    "kernelspec": {
      "name": "python3",
      "display_name": "Python 3"
    },
    "language_info": {
      "name": "python"
    }
  },
  "cells": [
    {
      "cell_type": "markdown",
      "metadata": {
        "id": "view-in-github",
        "colab_type": "text"
      },
      "source": [
        "<a href=\"https://colab.research.google.com/github/dudubouneto/Disc_FluxoVacinacao/blob/main/Escolaridade.ipynb\" target=\"_parent\"><img src=\"https://colab.research.google.com/assets/colab-badge.svg\" alt=\"Open In Colab\"/></a>"
      ]
    },
    {
      "cell_type": "code",
      "execution_count": 18,
      "metadata": {
        "id": "W3ZfMACiUfOL"
      },
      "outputs": [],
      "source": [
        "import numpy as np\n",
        "import pandas as pd\n",
        "import matplotlib.pyplot as plt\n",
        "import seaborn as sns\n",
        "from google.colab import drive"
      ]
    },
    {
      "cell_type": "code",
      "source": [
        "drive.mount('/content/drive')"
      ],
      "metadata": {
        "colab": {
          "base_uri": "https://localhost:8080/"
        },
        "id": "l6jBL0-sVwK-",
        "outputId": "ccfa37a5-31ec-4f9c-f337-76680cf8d660"
      },
      "execution_count": 19,
      "outputs": [
        {
          "output_type": "stream",
          "name": "stdout",
          "text": [
            "Drive already mounted at /content/drive; to attempt to forcibly remount, call drive.mount(\"/content/drive\", force_remount=True).\n"
          ]
        }
      ]
    },
    {
      "cell_type": "code",
      "source": [
        "data = pd.read_csv('/content/drive/MyDrive/Colab Notebooks/Discretização das variáveis/Data/final_novo_ibge_sp - final_novo_ibge_sp_cpy.csv')"
      ],
      "metadata": {
        "id": "KOZq-2cWVySs"
      },
      "execution_count": 20,
      "outputs": []
    },
    {
      "cell_type": "code",
      "source": [
        "data.head()"
      ],
      "metadata": {
        "colab": {
          "base_uri": "https://localhost:8080/",
          "height": 496
        },
        "id": "cqU_zKwqV7od",
        "outputId": "2c186224-44a5-4e1f-f8fb-002e34fad677"
      },
      "execution_count": 21,
      "outputs": [
        {
          "output_type": "execute_result",
          "data": {
            "text/plain": [
              "          Município  Codigo_IBGE      Gentílico  \\\n",
              "0        ADAMANTINA      3500105  adamantinense   \n",
              "1            ADOLFO      3500204       adolfino   \n",
              "2             AGUAÍ      3500303       aguaiano   \n",
              "3    ÁGUAS DA PRATA      3500402       pratense   \n",
              "4  ÁGUAS DE LINDÓIA      3500501     lindoiense   \n",
              "\n",
              "                           Prefeito Área Territorial  População Estimada  \\\n",
              "0                     MARCIO CARDIM              412               35111   \n",
              "1           IZAEL ANTONIO FERNANDES              211                3554   \n",
              "2  JOSÉ ALEXANDRE PEREIRA DE ARAÚJO              475               36648   \n",
              "3     REGINA HELENA JANIZELO MORAES              143                8221   \n",
              "4              GILBERTO ABDOU HELOU               60               18808   \n",
              "\n",
              "  Densidade Demográfica Escolarização 6 a 14 anos  IDHM Mortalidade Infantil  \\\n",
              "0                 82,15                      97,6   790                11,63   \n",
              "1                 16,85                      98,6   730                19,23   \n",
              "2                 67,72                      95,8   715                16,06   \n",
              "3                 53,05                      98,8   781                25,32   \n",
              "4                287,16                      96,2   745                 8,37   \n",
              "\n",
              "  Receitas Realizadas Despesas empenhadas PIB per capita Latitude Longitude  \\\n",
              "0      16,071,867,925      13,708,366,993       30962,66      -22      -511   \n",
              "1       2,733,374,731       2,010,387,713       25867,75     -212      -496   \n",
              "2       8,409,476,006       7,216,873,408       28041,03     -221      -470   \n",
              "3       2,939,024,814       2,436,340,149       20683,88     -219      -467   \n",
              "4       8,694,922,213       7,520,147,793       26427,34     -225      -466   \n",
              "\n",
              "   Postos vacinação  Hospitais  Médicos  \n",
              "0                 4          0        0  \n",
              "1                 1          0        0  \n",
              "2                 5          0        0  \n",
              "3                 1          0        0  \n",
              "4                 4          0        0  "
            ],
            "text/html": [
              "\n",
              "  <div id=\"df-3323d653-f78d-45ad-bc49-374307c7ae9e\">\n",
              "    <div class=\"colab-df-container\">\n",
              "      <div>\n",
              "<style scoped>\n",
              "    .dataframe tbody tr th:only-of-type {\n",
              "        vertical-align: middle;\n",
              "    }\n",
              "\n",
              "    .dataframe tbody tr th {\n",
              "        vertical-align: top;\n",
              "    }\n",
              "\n",
              "    .dataframe thead th {\n",
              "        text-align: right;\n",
              "    }\n",
              "</style>\n",
              "<table border=\"1\" class=\"dataframe\">\n",
              "  <thead>\n",
              "    <tr style=\"text-align: right;\">\n",
              "      <th></th>\n",
              "      <th>Município</th>\n",
              "      <th>Codigo_IBGE</th>\n",
              "      <th>Gentílico</th>\n",
              "      <th>Prefeito</th>\n",
              "      <th>Área Territorial</th>\n",
              "      <th>População Estimada</th>\n",
              "      <th>Densidade Demográfica</th>\n",
              "      <th>Escolarização 6 a 14 anos</th>\n",
              "      <th>IDHM</th>\n",
              "      <th>Mortalidade Infantil</th>\n",
              "      <th>Receitas Realizadas</th>\n",
              "      <th>Despesas empenhadas</th>\n",
              "      <th>PIB per capita</th>\n",
              "      <th>Latitude</th>\n",
              "      <th>Longitude</th>\n",
              "      <th>Postos vacinação</th>\n",
              "      <th>Hospitais</th>\n",
              "      <th>Médicos</th>\n",
              "    </tr>\n",
              "  </thead>\n",
              "  <tbody>\n",
              "    <tr>\n",
              "      <th>0</th>\n",
              "      <td>ADAMANTINA</td>\n",
              "      <td>3500105</td>\n",
              "      <td>adamantinense</td>\n",
              "      <td>MARCIO CARDIM</td>\n",
              "      <td>412</td>\n",
              "      <td>35111</td>\n",
              "      <td>82,15</td>\n",
              "      <td>97,6</td>\n",
              "      <td>790</td>\n",
              "      <td>11,63</td>\n",
              "      <td>16,071,867,925</td>\n",
              "      <td>13,708,366,993</td>\n",
              "      <td>30962,66</td>\n",
              "      <td>-22</td>\n",
              "      <td>-511</td>\n",
              "      <td>4</td>\n",
              "      <td>0</td>\n",
              "      <td>0</td>\n",
              "    </tr>\n",
              "    <tr>\n",
              "      <th>1</th>\n",
              "      <td>ADOLFO</td>\n",
              "      <td>3500204</td>\n",
              "      <td>adolfino</td>\n",
              "      <td>IZAEL ANTONIO FERNANDES</td>\n",
              "      <td>211</td>\n",
              "      <td>3554</td>\n",
              "      <td>16,85</td>\n",
              "      <td>98,6</td>\n",
              "      <td>730</td>\n",
              "      <td>19,23</td>\n",
              "      <td>2,733,374,731</td>\n",
              "      <td>2,010,387,713</td>\n",
              "      <td>25867,75</td>\n",
              "      <td>-212</td>\n",
              "      <td>-496</td>\n",
              "      <td>1</td>\n",
              "      <td>0</td>\n",
              "      <td>0</td>\n",
              "    </tr>\n",
              "    <tr>\n",
              "      <th>2</th>\n",
              "      <td>AGUAÍ</td>\n",
              "      <td>3500303</td>\n",
              "      <td>aguaiano</td>\n",
              "      <td>JOSÉ ALEXANDRE PEREIRA DE ARAÚJO</td>\n",
              "      <td>475</td>\n",
              "      <td>36648</td>\n",
              "      <td>67,72</td>\n",
              "      <td>95,8</td>\n",
              "      <td>715</td>\n",
              "      <td>16,06</td>\n",
              "      <td>8,409,476,006</td>\n",
              "      <td>7,216,873,408</td>\n",
              "      <td>28041,03</td>\n",
              "      <td>-221</td>\n",
              "      <td>-470</td>\n",
              "      <td>5</td>\n",
              "      <td>0</td>\n",
              "      <td>0</td>\n",
              "    </tr>\n",
              "    <tr>\n",
              "      <th>3</th>\n",
              "      <td>ÁGUAS DA PRATA</td>\n",
              "      <td>3500402</td>\n",
              "      <td>pratense</td>\n",
              "      <td>REGINA HELENA JANIZELO MORAES</td>\n",
              "      <td>143</td>\n",
              "      <td>8221</td>\n",
              "      <td>53,05</td>\n",
              "      <td>98,8</td>\n",
              "      <td>781</td>\n",
              "      <td>25,32</td>\n",
              "      <td>2,939,024,814</td>\n",
              "      <td>2,436,340,149</td>\n",
              "      <td>20683,88</td>\n",
              "      <td>-219</td>\n",
              "      <td>-467</td>\n",
              "      <td>1</td>\n",
              "      <td>0</td>\n",
              "      <td>0</td>\n",
              "    </tr>\n",
              "    <tr>\n",
              "      <th>4</th>\n",
              "      <td>ÁGUAS DE LINDÓIA</td>\n",
              "      <td>3500501</td>\n",
              "      <td>lindoiense</td>\n",
              "      <td>GILBERTO ABDOU HELOU</td>\n",
              "      <td>60</td>\n",
              "      <td>18808</td>\n",
              "      <td>287,16</td>\n",
              "      <td>96,2</td>\n",
              "      <td>745</td>\n",
              "      <td>8,37</td>\n",
              "      <td>8,694,922,213</td>\n",
              "      <td>7,520,147,793</td>\n",
              "      <td>26427,34</td>\n",
              "      <td>-225</td>\n",
              "      <td>-466</td>\n",
              "      <td>4</td>\n",
              "      <td>0</td>\n",
              "      <td>0</td>\n",
              "    </tr>\n",
              "  </tbody>\n",
              "</table>\n",
              "</div>\n",
              "      <button class=\"colab-df-convert\" onclick=\"convertToInteractive('df-3323d653-f78d-45ad-bc49-374307c7ae9e')\"\n",
              "              title=\"Convert this dataframe to an interactive table.\"\n",
              "              style=\"display:none;\">\n",
              "        \n",
              "  <svg xmlns=\"http://www.w3.org/2000/svg\" height=\"24px\"viewBox=\"0 0 24 24\"\n",
              "       width=\"24px\">\n",
              "    <path d=\"M0 0h24v24H0V0z\" fill=\"none\"/>\n",
              "    <path d=\"M18.56 5.44l.94 2.06.94-2.06 2.06-.94-2.06-.94-.94-2.06-.94 2.06-2.06.94zm-11 1L8.5 8.5l.94-2.06 2.06-.94-2.06-.94L8.5 2.5l-.94 2.06-2.06.94zm10 10l.94 2.06.94-2.06 2.06-.94-2.06-.94-.94-2.06-.94 2.06-2.06.94z\"/><path d=\"M17.41 7.96l-1.37-1.37c-.4-.4-.92-.59-1.43-.59-.52 0-1.04.2-1.43.59L10.3 9.45l-7.72 7.72c-.78.78-.78 2.05 0 2.83L4 21.41c.39.39.9.59 1.41.59.51 0 1.02-.2 1.41-.59l7.78-7.78 2.81-2.81c.8-.78.8-2.07 0-2.86zM5.41 20L4 18.59l7.72-7.72 1.47 1.35L5.41 20z\"/>\n",
              "  </svg>\n",
              "      </button>\n",
              "      \n",
              "  <style>\n",
              "    .colab-df-container {\n",
              "      display:flex;\n",
              "      flex-wrap:wrap;\n",
              "      gap: 12px;\n",
              "    }\n",
              "\n",
              "    .colab-df-convert {\n",
              "      background-color: #E8F0FE;\n",
              "      border: none;\n",
              "      border-radius: 50%;\n",
              "      cursor: pointer;\n",
              "      display: none;\n",
              "      fill: #1967D2;\n",
              "      height: 32px;\n",
              "      padding: 0 0 0 0;\n",
              "      width: 32px;\n",
              "    }\n",
              "\n",
              "    .colab-df-convert:hover {\n",
              "      background-color: #E2EBFA;\n",
              "      box-shadow: 0px 1px 2px rgba(60, 64, 67, 0.3), 0px 1px 3px 1px rgba(60, 64, 67, 0.15);\n",
              "      fill: #174EA6;\n",
              "    }\n",
              "\n",
              "    [theme=dark] .colab-df-convert {\n",
              "      background-color: #3B4455;\n",
              "      fill: #D2E3FC;\n",
              "    }\n",
              "\n",
              "    [theme=dark] .colab-df-convert:hover {\n",
              "      background-color: #434B5C;\n",
              "      box-shadow: 0px 1px 3px 1px rgba(0, 0, 0, 0.15);\n",
              "      filter: drop-shadow(0px 1px 2px rgba(0, 0, 0, 0.3));\n",
              "      fill: #FFFFFF;\n",
              "    }\n",
              "  </style>\n",
              "\n",
              "      <script>\n",
              "        const buttonEl =\n",
              "          document.querySelector('#df-3323d653-f78d-45ad-bc49-374307c7ae9e button.colab-df-convert');\n",
              "        buttonEl.style.display =\n",
              "          google.colab.kernel.accessAllowed ? 'block' : 'none';\n",
              "\n",
              "        async function convertToInteractive(key) {\n",
              "          const element = document.querySelector('#df-3323d653-f78d-45ad-bc49-374307c7ae9e');\n",
              "          const dataTable =\n",
              "            await google.colab.kernel.invokeFunction('convertToInteractive',\n",
              "                                                     [key], {});\n",
              "          if (!dataTable) return;\n",
              "\n",
              "          const docLinkHtml = 'Like what you see? Visit the ' +\n",
              "            '<a target=\"_blank\" href=https://colab.research.google.com/notebooks/data_table.ipynb>data table notebook</a>'\n",
              "            + ' to learn more about interactive tables.';\n",
              "          element.innerHTML = '';\n",
              "          dataTable['output_type'] = 'display_data';\n",
              "          await google.colab.output.renderOutput(dataTable, element);\n",
              "          const docLink = document.createElement('div');\n",
              "          docLink.innerHTML = docLinkHtml;\n",
              "          element.appendChild(docLink);\n",
              "        }\n",
              "      </script>\n",
              "    </div>\n",
              "  </div>\n",
              "  "
            ]
          },
          "metadata": {},
          "execution_count": 21
        }
      ]
    },
    {
      "cell_type": "code",
      "source": [
        "data = data[['Município', 'Codigo_IBGE', 'Escolarização 6 a 14 anos']]\n",
        "data.head()"
      ],
      "metadata": {
        "colab": {
          "base_uri": "https://localhost:8080/",
          "height": 206
        },
        "id": "cM2A4E3DWExJ",
        "outputId": "101ec5a4-d1a4-4af8-d8fb-dee6e9b15f6f"
      },
      "execution_count": 22,
      "outputs": [
        {
          "output_type": "execute_result",
          "data": {
            "text/plain": [
              "          Município  Codigo_IBGE Escolarização 6 a 14 anos\n",
              "0        ADAMANTINA      3500105                      97,6\n",
              "1            ADOLFO      3500204                      98,6\n",
              "2             AGUAÍ      3500303                      95,8\n",
              "3    ÁGUAS DA PRATA      3500402                      98,8\n",
              "4  ÁGUAS DE LINDÓIA      3500501                      96,2"
            ],
            "text/html": [
              "\n",
              "  <div id=\"df-7cf3d7f1-f301-4170-baf5-86223b66cda7\">\n",
              "    <div class=\"colab-df-container\">\n",
              "      <div>\n",
              "<style scoped>\n",
              "    .dataframe tbody tr th:only-of-type {\n",
              "        vertical-align: middle;\n",
              "    }\n",
              "\n",
              "    .dataframe tbody tr th {\n",
              "        vertical-align: top;\n",
              "    }\n",
              "\n",
              "    .dataframe thead th {\n",
              "        text-align: right;\n",
              "    }\n",
              "</style>\n",
              "<table border=\"1\" class=\"dataframe\">\n",
              "  <thead>\n",
              "    <tr style=\"text-align: right;\">\n",
              "      <th></th>\n",
              "      <th>Município</th>\n",
              "      <th>Codigo_IBGE</th>\n",
              "      <th>Escolarização 6 a 14 anos</th>\n",
              "    </tr>\n",
              "  </thead>\n",
              "  <tbody>\n",
              "    <tr>\n",
              "      <th>0</th>\n",
              "      <td>ADAMANTINA</td>\n",
              "      <td>3500105</td>\n",
              "      <td>97,6</td>\n",
              "    </tr>\n",
              "    <tr>\n",
              "      <th>1</th>\n",
              "      <td>ADOLFO</td>\n",
              "      <td>3500204</td>\n",
              "      <td>98,6</td>\n",
              "    </tr>\n",
              "    <tr>\n",
              "      <th>2</th>\n",
              "      <td>AGUAÍ</td>\n",
              "      <td>3500303</td>\n",
              "      <td>95,8</td>\n",
              "    </tr>\n",
              "    <tr>\n",
              "      <th>3</th>\n",
              "      <td>ÁGUAS DA PRATA</td>\n",
              "      <td>3500402</td>\n",
              "      <td>98,8</td>\n",
              "    </tr>\n",
              "    <tr>\n",
              "      <th>4</th>\n",
              "      <td>ÁGUAS DE LINDÓIA</td>\n",
              "      <td>3500501</td>\n",
              "      <td>96,2</td>\n",
              "    </tr>\n",
              "  </tbody>\n",
              "</table>\n",
              "</div>\n",
              "      <button class=\"colab-df-convert\" onclick=\"convertToInteractive('df-7cf3d7f1-f301-4170-baf5-86223b66cda7')\"\n",
              "              title=\"Convert this dataframe to an interactive table.\"\n",
              "              style=\"display:none;\">\n",
              "        \n",
              "  <svg xmlns=\"http://www.w3.org/2000/svg\" height=\"24px\"viewBox=\"0 0 24 24\"\n",
              "       width=\"24px\">\n",
              "    <path d=\"M0 0h24v24H0V0z\" fill=\"none\"/>\n",
              "    <path d=\"M18.56 5.44l.94 2.06.94-2.06 2.06-.94-2.06-.94-.94-2.06-.94 2.06-2.06.94zm-11 1L8.5 8.5l.94-2.06 2.06-.94-2.06-.94L8.5 2.5l-.94 2.06-2.06.94zm10 10l.94 2.06.94-2.06 2.06-.94-2.06-.94-.94-2.06-.94 2.06-2.06.94z\"/><path d=\"M17.41 7.96l-1.37-1.37c-.4-.4-.92-.59-1.43-.59-.52 0-1.04.2-1.43.59L10.3 9.45l-7.72 7.72c-.78.78-.78 2.05 0 2.83L4 21.41c.39.39.9.59 1.41.59.51 0 1.02-.2 1.41-.59l7.78-7.78 2.81-2.81c.8-.78.8-2.07 0-2.86zM5.41 20L4 18.59l7.72-7.72 1.47 1.35L5.41 20z\"/>\n",
              "  </svg>\n",
              "      </button>\n",
              "      \n",
              "  <style>\n",
              "    .colab-df-container {\n",
              "      display:flex;\n",
              "      flex-wrap:wrap;\n",
              "      gap: 12px;\n",
              "    }\n",
              "\n",
              "    .colab-df-convert {\n",
              "      background-color: #E8F0FE;\n",
              "      border: none;\n",
              "      border-radius: 50%;\n",
              "      cursor: pointer;\n",
              "      display: none;\n",
              "      fill: #1967D2;\n",
              "      height: 32px;\n",
              "      padding: 0 0 0 0;\n",
              "      width: 32px;\n",
              "    }\n",
              "\n",
              "    .colab-df-convert:hover {\n",
              "      background-color: #E2EBFA;\n",
              "      box-shadow: 0px 1px 2px rgba(60, 64, 67, 0.3), 0px 1px 3px 1px rgba(60, 64, 67, 0.15);\n",
              "      fill: #174EA6;\n",
              "    }\n",
              "\n",
              "    [theme=dark] .colab-df-convert {\n",
              "      background-color: #3B4455;\n",
              "      fill: #D2E3FC;\n",
              "    }\n",
              "\n",
              "    [theme=dark] .colab-df-convert:hover {\n",
              "      background-color: #434B5C;\n",
              "      box-shadow: 0px 1px 3px 1px rgba(0, 0, 0, 0.15);\n",
              "      filter: drop-shadow(0px 1px 2px rgba(0, 0, 0, 0.3));\n",
              "      fill: #FFFFFF;\n",
              "    }\n",
              "  </style>\n",
              "\n",
              "      <script>\n",
              "        const buttonEl =\n",
              "          document.querySelector('#df-7cf3d7f1-f301-4170-baf5-86223b66cda7 button.colab-df-convert');\n",
              "        buttonEl.style.display =\n",
              "          google.colab.kernel.accessAllowed ? 'block' : 'none';\n",
              "\n",
              "        async function convertToInteractive(key) {\n",
              "          const element = document.querySelector('#df-7cf3d7f1-f301-4170-baf5-86223b66cda7');\n",
              "          const dataTable =\n",
              "            await google.colab.kernel.invokeFunction('convertToInteractive',\n",
              "                                                     [key], {});\n",
              "          if (!dataTable) return;\n",
              "\n",
              "          const docLinkHtml = 'Like what you see? Visit the ' +\n",
              "            '<a target=\"_blank\" href=https://colab.research.google.com/notebooks/data_table.ipynb>data table notebook</a>'\n",
              "            + ' to learn more about interactive tables.';\n",
              "          element.innerHTML = '';\n",
              "          dataTable['output_type'] = 'display_data';\n",
              "          await google.colab.output.renderOutput(dataTable, element);\n",
              "          const docLink = document.createElement('div');\n",
              "          docLink.innerHTML = docLinkHtml;\n",
              "          element.appendChild(docLink);\n",
              "        }\n",
              "      </script>\n",
              "    </div>\n",
              "  </div>\n",
              "  "
            ]
          },
          "metadata": {},
          "execution_count": 22
        }
      ]
    },
    {
      "cell_type": "code",
      "source": [
        "data.info()"
      ],
      "metadata": {
        "colab": {
          "base_uri": "https://localhost:8080/"
        },
        "id": "_krRm5oNWL_s",
        "outputId": "56d0d5a7-96b2-4b52-ff64-9f7be5ac4252"
      },
      "execution_count": 23,
      "outputs": [
        {
          "output_type": "stream",
          "name": "stdout",
          "text": [
            "<class 'pandas.core.frame.DataFrame'>\n",
            "RangeIndex: 645 entries, 0 to 644\n",
            "Data columns (total 3 columns):\n",
            " #   Column                     Non-Null Count  Dtype \n",
            "---  ------                     --------------  ----- \n",
            " 0   Município                  645 non-null    object\n",
            " 1   Codigo_IBGE                645 non-null    int64 \n",
            " 2   Escolarização 6 a 14 anos  645 non-null    object\n",
            "dtypes: int64(1), object(2)\n",
            "memory usage: 15.2+ KB\n"
          ]
        }
      ]
    },
    {
      "cell_type": "markdown",
      "source": [
        "##Convertendo o atributo de escolarização para ```float64```\n",
        "Ao consultar o IBGE Cidades, observa-se que os índices de escolarização estão todos em porcentagem com, no máximo, uma casa decimal (ex.: Adamantina - 97,6%). Alguns municípios não possuem casa decimal (ex.: Paulicéia - \"94%\"). Com base nisso, aplica-se a função ```Esc_toFloat(x)```"
      ],
      "metadata": {
        "id": "rTQ2MsrCWPx5"
      }
    },
    {
      "cell_type": "code",
      "source": [
        "def Esc_toFloat(x):\n",
        "  if ',' in x:\n",
        "    x = x.replace(',','')\n",
        "    x = float(x)/10\n",
        "  else:\n",
        "    x = float(x)\n",
        "\n",
        "  return x"
      ],
      "metadata": {
        "id": "lqFR_WzbWOpR"
      },
      "execution_count": 24,
      "outputs": []
    },
    {
      "cell_type": "code",
      "source": [
        "data['Escolarização 6 a 14 anos'] = data['Escolarização 6 a 14 anos'].apply(Esc_toFloat)\n",
        "data.head()"
      ],
      "metadata": {
        "colab": {
          "base_uri": "https://localhost:8080/",
          "height": 206
        },
        "id": "cFv8ljbhWxBN",
        "outputId": "cb76705f-e7bb-4d44-cae9-d9e8e1e0b25b"
      },
      "execution_count": 25,
      "outputs": [
        {
          "output_type": "execute_result",
          "data": {
            "text/plain": [
              "          Município  Codigo_IBGE  Escolarização 6 a 14 anos\n",
              "0        ADAMANTINA      3500105                       97.6\n",
              "1            ADOLFO      3500204                       98.6\n",
              "2             AGUAÍ      3500303                       95.8\n",
              "3    ÁGUAS DA PRATA      3500402                       98.8\n",
              "4  ÁGUAS DE LINDÓIA      3500501                       96.2"
            ],
            "text/html": [
              "\n",
              "  <div id=\"df-d49e8816-dec8-452b-ad0d-4f50e529a975\">\n",
              "    <div class=\"colab-df-container\">\n",
              "      <div>\n",
              "<style scoped>\n",
              "    .dataframe tbody tr th:only-of-type {\n",
              "        vertical-align: middle;\n",
              "    }\n",
              "\n",
              "    .dataframe tbody tr th {\n",
              "        vertical-align: top;\n",
              "    }\n",
              "\n",
              "    .dataframe thead th {\n",
              "        text-align: right;\n",
              "    }\n",
              "</style>\n",
              "<table border=\"1\" class=\"dataframe\">\n",
              "  <thead>\n",
              "    <tr style=\"text-align: right;\">\n",
              "      <th></th>\n",
              "      <th>Município</th>\n",
              "      <th>Codigo_IBGE</th>\n",
              "      <th>Escolarização 6 a 14 anos</th>\n",
              "    </tr>\n",
              "  </thead>\n",
              "  <tbody>\n",
              "    <tr>\n",
              "      <th>0</th>\n",
              "      <td>ADAMANTINA</td>\n",
              "      <td>3500105</td>\n",
              "      <td>97.6</td>\n",
              "    </tr>\n",
              "    <tr>\n",
              "      <th>1</th>\n",
              "      <td>ADOLFO</td>\n",
              "      <td>3500204</td>\n",
              "      <td>98.6</td>\n",
              "    </tr>\n",
              "    <tr>\n",
              "      <th>2</th>\n",
              "      <td>AGUAÍ</td>\n",
              "      <td>3500303</td>\n",
              "      <td>95.8</td>\n",
              "    </tr>\n",
              "    <tr>\n",
              "      <th>3</th>\n",
              "      <td>ÁGUAS DA PRATA</td>\n",
              "      <td>3500402</td>\n",
              "      <td>98.8</td>\n",
              "    </tr>\n",
              "    <tr>\n",
              "      <th>4</th>\n",
              "      <td>ÁGUAS DE LINDÓIA</td>\n",
              "      <td>3500501</td>\n",
              "      <td>96.2</td>\n",
              "    </tr>\n",
              "  </tbody>\n",
              "</table>\n",
              "</div>\n",
              "      <button class=\"colab-df-convert\" onclick=\"convertToInteractive('df-d49e8816-dec8-452b-ad0d-4f50e529a975')\"\n",
              "              title=\"Convert this dataframe to an interactive table.\"\n",
              "              style=\"display:none;\">\n",
              "        \n",
              "  <svg xmlns=\"http://www.w3.org/2000/svg\" height=\"24px\"viewBox=\"0 0 24 24\"\n",
              "       width=\"24px\">\n",
              "    <path d=\"M0 0h24v24H0V0z\" fill=\"none\"/>\n",
              "    <path d=\"M18.56 5.44l.94 2.06.94-2.06 2.06-.94-2.06-.94-.94-2.06-.94 2.06-2.06.94zm-11 1L8.5 8.5l.94-2.06 2.06-.94-2.06-.94L8.5 2.5l-.94 2.06-2.06.94zm10 10l.94 2.06.94-2.06 2.06-.94-2.06-.94-.94-2.06-.94 2.06-2.06.94z\"/><path d=\"M17.41 7.96l-1.37-1.37c-.4-.4-.92-.59-1.43-.59-.52 0-1.04.2-1.43.59L10.3 9.45l-7.72 7.72c-.78.78-.78 2.05 0 2.83L4 21.41c.39.39.9.59 1.41.59.51 0 1.02-.2 1.41-.59l7.78-7.78 2.81-2.81c.8-.78.8-2.07 0-2.86zM5.41 20L4 18.59l7.72-7.72 1.47 1.35L5.41 20z\"/>\n",
              "  </svg>\n",
              "      </button>\n",
              "      \n",
              "  <style>\n",
              "    .colab-df-container {\n",
              "      display:flex;\n",
              "      flex-wrap:wrap;\n",
              "      gap: 12px;\n",
              "    }\n",
              "\n",
              "    .colab-df-convert {\n",
              "      background-color: #E8F0FE;\n",
              "      border: none;\n",
              "      border-radius: 50%;\n",
              "      cursor: pointer;\n",
              "      display: none;\n",
              "      fill: #1967D2;\n",
              "      height: 32px;\n",
              "      padding: 0 0 0 0;\n",
              "      width: 32px;\n",
              "    }\n",
              "\n",
              "    .colab-df-convert:hover {\n",
              "      background-color: #E2EBFA;\n",
              "      box-shadow: 0px 1px 2px rgba(60, 64, 67, 0.3), 0px 1px 3px 1px rgba(60, 64, 67, 0.15);\n",
              "      fill: #174EA6;\n",
              "    }\n",
              "\n",
              "    [theme=dark] .colab-df-convert {\n",
              "      background-color: #3B4455;\n",
              "      fill: #D2E3FC;\n",
              "    }\n",
              "\n",
              "    [theme=dark] .colab-df-convert:hover {\n",
              "      background-color: #434B5C;\n",
              "      box-shadow: 0px 1px 3px 1px rgba(0, 0, 0, 0.15);\n",
              "      filter: drop-shadow(0px 1px 2px rgba(0, 0, 0, 0.3));\n",
              "      fill: #FFFFFF;\n",
              "    }\n",
              "  </style>\n",
              "\n",
              "      <script>\n",
              "        const buttonEl =\n",
              "          document.querySelector('#df-d49e8816-dec8-452b-ad0d-4f50e529a975 button.colab-df-convert');\n",
              "        buttonEl.style.display =\n",
              "          google.colab.kernel.accessAllowed ? 'block' : 'none';\n",
              "\n",
              "        async function convertToInteractive(key) {\n",
              "          const element = document.querySelector('#df-d49e8816-dec8-452b-ad0d-4f50e529a975');\n",
              "          const dataTable =\n",
              "            await google.colab.kernel.invokeFunction('convertToInteractive',\n",
              "                                                     [key], {});\n",
              "          if (!dataTable) return;\n",
              "\n",
              "          const docLinkHtml = 'Like what you see? Visit the ' +\n",
              "            '<a target=\"_blank\" href=https://colab.research.google.com/notebooks/data_table.ipynb>data table notebook</a>'\n",
              "            + ' to learn more about interactive tables.';\n",
              "          element.innerHTML = '';\n",
              "          dataTable['output_type'] = 'display_data';\n",
              "          await google.colab.output.renderOutput(dataTable, element);\n",
              "          const docLink = document.createElement('div');\n",
              "          docLink.innerHTML = docLinkHtml;\n",
              "          element.appendChild(docLink);\n",
              "        }\n",
              "      </script>\n",
              "    </div>\n",
              "  </div>\n",
              "  "
            ]
          },
          "metadata": {},
          "execution_count": 25
        }
      ]
    },
    {
      "cell_type": "code",
      "source": [
        "data.info()"
      ],
      "metadata": {
        "colab": {
          "base_uri": "https://localhost:8080/"
        },
        "id": "WfHrlfygW42C",
        "outputId": "b2a805a6-0af1-48d0-8745-0e253c55cb80"
      },
      "execution_count": 26,
      "outputs": [
        {
          "output_type": "stream",
          "name": "stdout",
          "text": [
            "<class 'pandas.core.frame.DataFrame'>\n",
            "RangeIndex: 645 entries, 0 to 644\n",
            "Data columns (total 3 columns):\n",
            " #   Column                     Non-Null Count  Dtype  \n",
            "---  ------                     --------------  -----  \n",
            " 0   Município                  645 non-null    object \n",
            " 1   Codigo_IBGE                645 non-null    int64  \n",
            " 2   Escolarização 6 a 14 anos  645 non-null    float64\n",
            "dtypes: float64(1), int64(1), object(1)\n",
            "memory usage: 15.2+ KB\n"
          ]
        }
      ]
    },
    {
      "cell_type": "code",
      "source": [
        "sns.violinplot(data=data['Escolarização 6 a 14 anos'])"
      ],
      "metadata": {
        "colab": {
          "base_uri": "https://localhost:8080/",
          "height": 282
        },
        "id": "ivcl-4EcXVwq",
        "outputId": "e8c5cadb-c111-4149-e9d2-0ecb5d207242"
      },
      "execution_count": 27,
      "outputs": [
        {
          "output_type": "execute_result",
          "data": {
            "text/plain": [
              "<matplotlib.axes._subplots.AxesSubplot at 0x7f6a7813be10>"
            ]
          },
          "metadata": {},
          "execution_count": 27
        },
        {
          "output_type": "display_data",
          "data": {
            "text/plain": [
              "<Figure size 432x288 with 1 Axes>"
            ],
            "image/png": "[encoded data removed]"
          },
          "metadata": {
            "needs_background": "light"
          }
        }
      ]
    },
    {
      "cell_type": "code",
      "source": [
        "sns.boxplot(data=data['Escolarização 6 a 14 anos'])"
      ],
      "metadata": {
        "colab": {
          "base_uri": "https://localhost:8080/",
          "height": 282
        },
        "id": "BsVf44tpXa2e",
        "outputId": "39d7cbbe-5ddb-48da-9a98-7a7daaa96fed"
      },
      "execution_count": 28,
      "outputs": [
        {
          "output_type": "execute_result",
          "data": {
            "text/plain": [
              "<matplotlib.axes._subplots.AxesSubplot at 0x7f6a780102d0>"
            ]
          },
          "metadata": {},
          "execution_count": 28
        },
        {
          "output_type": "display_data",
          "data": {
            "text/plain": [
              "<Figure size 432x288 with 1 Axes>"
            ],
            "image/png": "[encoded data removed]"
          },
          "metadata": {
            "needs_background": "light"
          }
        }
      ]
    },
    {
      "cell_type": "code",
      "source": [
        "data['Escolarização 6 a 14 anos'].describe()"
      ],
      "metadata": {
        "colab": {
          "base_uri": "https://localhost:8080/"
        },
        "id": "jHHSMDBpXoVc",
        "outputId": "72e1f57a-bde4-481a-ea35-c234f5b11a6e"
      },
      "execution_count": 29,
      "outputs": [
        {
          "output_type": "execute_result",
          "data": {
            "text/plain": [
              "count    645.000000\n",
              "mean      97.937209\n",
              "std        1.339827\n",
              "min       85.300000\n",
              "25%       97.300000\n",
              "50%       98.100000\n",
              "75%       98.800000\n",
              "max      100.000000\n",
              "Name: Escolarização 6 a 14 anos, dtype: float64"
            ]
          },
          "metadata": {},
          "execution_count": 29
        }
      ]
    },
    {
      "cell_type": "markdown",
      "source": [
        "##Proposta de discretização\n",
        "* \"Outliers inferiores\": 'Muito Baixa'\n",
        "* Primeiro quartil: 'Baixa'\n",
        "* Segundo quartil: 'Média'\n",
        "* Terceiro quartil: 'Alta'\n",
        "* Acima do terceiro quartil: 'Muito Alta'"
      ],
      "metadata": {
        "id": "8PHEXcUJbNxF"
      }
    },
    {
      "cell_type": "code",
      "source": [
        "# determinando o limite inferior\n",
        "IQR = data['Escolarização 6 a 14 anos'].quantile(.75) - data['Escolarização 6 a 14 anos'].quantile(.25)\n",
        "inf = data['Escolarização 6 a 14 anos'].quantile(.25) - 1.5 * IQR\n",
        "print(f'%.1f' % inf)\n",
        "# como não há \"outliers superiores\", não é preciso calcular o limite superior"
      ],
      "metadata": {
        "colab": {
          "base_uri": "https://localhost:8080/"
        },
        "id": "DW5Y4CHzbqOt",
        "outputId": "1ddd645e-a3d9-4256-b3ed-ee40aa892681"
      },
      "execution_count": 33,
      "outputs": [
        {
          "output_type": "stream",
          "name": "stdout",
          "text": [
            "95.0\n"
          ]
        }
      ]
    },
    {
      "cell_type": "code",
      "source": [
        "bins = [data['Escolarização 6 a 14 anos'].min(),\n",
        "        inf,\n",
        "        data['Escolarização 6 a 14 anos'].quantile(.25),\n",
        "        data['Escolarização 6 a 14 anos'].quantile(.50),\n",
        "        data['Escolarização 6 a 14 anos'].quantile(.75),\n",
        "        data['Escolarização 6 a 14 anos'].max()]\n",
        "labels = ['Muito Baixa', 'Baixa', 'Média', 'Alta', 'Muito Alta']\n",
        "data['Classificação Escolarização'] = pd.cut(data['Escolarização 6 a 14 anos'], bins=bins, labels=labels, include_lowest=True)\n",
        "data.info()"
      ],
      "metadata": {
        "colab": {
          "base_uri": "https://localhost:8080/"
        },
        "id": "tnfQ4QclcFqs",
        "outputId": "fe0f297e-31d6-448d-e271-2bf4999b6691"
      },
      "execution_count": 35,
      "outputs": [
        {
          "output_type": "stream",
          "name": "stdout",
          "text": [
            "<class 'pandas.core.frame.DataFrame'>\n",
            "RangeIndex: 645 entries, 0 to 644\n",
            "Data columns (total 4 columns):\n",
            " #   Column                       Non-Null Count  Dtype   \n",
            "---  ------                       --------------  -----   \n",
            " 0   Município                    645 non-null    object  \n",
            " 1   Codigo_IBGE                  645 non-null    int64   \n",
            " 2   Escolarização 6 a 14 anos    645 non-null    float64 \n",
            " 3   Classificação Escolarização  645 non-null    category\n",
            "dtypes: category(1), float64(1), int64(1), object(1)\n",
            "memory usage: 16.1+ KB\n"
          ]
        }
      ]
    },
    {
      "cell_type": "code",
      "source": [
        "data.head()"
      ],
      "metadata": {
        "colab": {
          "base_uri": "https://localhost:8080/",
          "height": 206
        },
        "id": "4UJZQvwKc4tC",
        "outputId": "4048e119-093a-4b1c-d2b6-cf5e1b29acb8"
      },
      "execution_count": 36,
      "outputs": [
        {
          "output_type": "execute_result",
          "data": {
            "text/plain": [
              "          Município  Codigo_IBGE  Escolarização 6 a 14 anos  \\\n",
              "0        ADAMANTINA      3500105                       97.6   \n",
              "1            ADOLFO      3500204                       98.6   \n",
              "2             AGUAÍ      3500303                       95.8   \n",
              "3    ÁGUAS DA PRATA      3500402                       98.8   \n",
              "4  ÁGUAS DE LINDÓIA      3500501                       96.2   \n",
              "\n",
              "  Classificação Escolarização  \n",
              "0                       Média  \n",
              "1                        Alta  \n",
              "2                       Baixa  \n",
              "3                        Alta  \n",
              "4                       Baixa  "
            ],
            "text/html": [
              "\n",
              "  <div id=\"df-7029437b-dab8-464b-bfcf-821407e0ed5d\">\n",
              "    <div class=\"colab-df-container\">\n",
              "      <div>\n",
              "<style scoped>\n",
              "    .dataframe tbody tr th:only-of-type {\n",
              "        vertical-align: middle;\n",
              "    }\n",
              "\n",
              "    .dataframe tbody tr th {\n",
              "        vertical-align: top;\n",
              "    }\n",
              "\n",
              "    .dataframe thead th {\n",
              "        text-align: right;\n",
              "    }\n",
              "</style>\n",
              "<table border=\"1\" class=\"dataframe\">\n",
              "  <thead>\n",
              "    <tr style=\"text-align: right;\">\n",
              "      <th></th>\n",
              "      <th>Município</th>\n",
              "      <th>Codigo_IBGE</th>\n",
              "      <th>Escolarização 6 a 14 anos</th>\n",
              "      <th>Classificação Escolarização</th>\n",
              "    </tr>\n",
              "  </thead>\n",
              "  <tbody>\n",
              "    <tr>\n",
              "      <th>0</th>\n",
              "      <td>ADAMANTINA</td>\n",
              "      <td>3500105</td>\n",
              "      <td>97.6</td>\n",
              "      <td>Média</td>\n",
              "    </tr>\n",
              "    <tr>\n",
              "      <th>1</th>\n",
              "      <td>ADOLFO</td>\n",
              "      <td>3500204</td>\n",
              "      <td>98.6</td>\n",
              "      <td>Alta</td>\n",
              "    </tr>\n",
              "    <tr>\n",
              "      <th>2</th>\n",
              "      <td>AGUAÍ</td>\n",
              "      <td>3500303</td>\n",
              "      <td>95.8</td>\n",
              "      <td>Baixa</td>\n",
              "    </tr>\n",
              "    <tr>\n",
              "      <th>3</th>\n",
              "      <td>ÁGUAS DA PRATA</td>\n",
              "      <td>3500402</td>\n",
              "      <td>98.8</td>\n",
              "      <td>Alta</td>\n",
              "    </tr>\n",
              "    <tr>\n",
              "      <th>4</th>\n",
              "      <td>ÁGUAS DE LINDÓIA</td>\n",
              "      <td>3500501</td>\n",
              "      <td>96.2</td>\n",
              "      <td>Baixa</td>\n",
              "    </tr>\n",
              "  </tbody>\n",
              "</table>\n",
              "</div>\n",
              "      <button class=\"colab-df-convert\" onclick=\"convertToInteractive('df-7029437b-dab8-464b-bfcf-821407e0ed5d')\"\n",
              "              title=\"Convert this dataframe to an interactive table.\"\n",
              "              style=\"display:none;\">\n",
              "        \n",
              "  <svg xmlns=\"http://www.w3.org/2000/svg\" height=\"24px\"viewBox=\"0 0 24 24\"\n",
              "       width=\"24px\">\n",
              "    <path d=\"M0 0h24v24H0V0z\" fill=\"none\"/>\n",
              "    <path d=\"M18.56 5.44l.94 2.06.94-2.06 2.06-.94-2.06-.94-.94-2.06-.94 2.06-2.06.94zm-11 1L8.5 8.5l.94-2.06 2.06-.94-2.06-.94L8.5 2.5l-.94 2.06-2.06.94zm10 10l.94 2.06.94-2.06 2.06-.94-2.06-.94-.94-2.06-.94 2.06-2.06.94z\"/><path d=\"M17.41 7.96l-1.37-1.37c-.4-.4-.92-.59-1.43-.59-.52 0-1.04.2-1.43.59L10.3 9.45l-7.72 7.72c-.78.78-.78 2.05 0 2.83L4 21.41c.39.39.9.59 1.41.59.51 0 1.02-.2 1.41-.59l7.78-7.78 2.81-2.81c.8-.78.8-2.07 0-2.86zM5.41 20L4 18.59l7.72-7.72 1.47 1.35L5.41 20z\"/>\n",
              "  </svg>\n",
              "      </button>\n",
              "      \n",
              "  <style>\n",
              "    .colab-df-container {\n",
              "      display:flex;\n",
              "      flex-wrap:wrap;\n",
              "      gap: 12px;\n",
              "    }\n",
              "\n",
              "    .colab-df-convert {\n",
              "      background-color: #E8F0FE;\n",
              "      border: none;\n",
              "      border-radius: 50%;\n",
              "      cursor: pointer;\n",
              "      display: none;\n",
              "      fill: #1967D2;\n",
              "      height: 32px;\n",
              "      padding: 0 0 0 0;\n",
              "      width: 32px;\n",
              "    }\n",
              "\n",
              "    .colab-df-convert:hover {\n",
              "      background-color: #E2EBFA;\n",
              "      box-shadow: 0px 1px 2px rgba(60, 64, 67, 0.3), 0px 1px 3px 1px rgba(60, 64, 67, 0.15);\n",
              "      fill: #174EA6;\n",
              "    }\n",
              "\n",
              "    [theme=dark] .colab-df-convert {\n",
              "      background-color: #3B4455;\n",
              "      fill: #D2E3FC;\n",
              "    }\n",
              "\n",
              "    [theme=dark] .colab-df-convert:hover {\n",
              "      background-color: #434B5C;\n",
              "      box-shadow: 0px 1px 3px 1px rgba(0, 0, 0, 0.15);\n",
              "      filter: drop-shadow(0px 1px 2px rgba(0, 0, 0, 0.3));\n",
              "      fill: #FFFFFF;\n",
              "    }\n",
              "  </style>\n",
              "\n",
              "      <script>\n",
              "        const buttonEl =\n",
              "          document.querySelector('#df-7029437b-dab8-464b-bfcf-821407e0ed5d button.colab-df-convert');\n",
              "        buttonEl.style.display =\n",
              "          google.colab.kernel.accessAllowed ? 'block' : 'none';\n",
              "\n",
              "        async function convertToInteractive(key) {\n",
              "          const element = document.querySelector('#df-7029437b-dab8-464b-bfcf-821407e0ed5d');\n",
              "          const dataTable =\n",
              "            await google.colab.kernel.invokeFunction('convertToInteractive',\n",
              "                                                     [key], {});\n",
              "          if (!dataTable) return;\n",
              "\n",
              "          const docLinkHtml = 'Like what you see? Visit the ' +\n",
              "            '<a target=\"_blank\" href=https://colab.research.google.com/notebooks/data_table.ipynb>data table notebook</a>'\n",
              "            + ' to learn more about interactive tables.';\n",
              "          element.innerHTML = '';\n",
              "          dataTable['output_type'] = 'display_data';\n",
              "          await google.colab.output.renderOutput(dataTable, element);\n",
              "          const docLink = document.createElement('div');\n",
              "          docLink.innerHTML = docLinkHtml;\n",
              "          element.appendChild(docLink);\n",
              "        }\n",
              "      </script>\n",
              "    </div>\n",
              "  </div>\n",
              "  "
            ]
          },
          "metadata": {},
          "execution_count": 36
        }
      ]
    },
    {
      "cell_type": "markdown",
      "source": [
        "###Histograma da distribuição"
      ],
      "metadata": {
        "id": "5BILVVYFc8aW"
      }
    },
    {
      "cell_type": "code",
      "source": [
        "sns.histplot(data['Classificação Escolarização'])"
      ],
      "metadata": {
        "colab": {
          "base_uri": "https://localhost:8080/",
          "height": 296
        },
        "id": "EgFODs9rc7OX",
        "outputId": "60b0f9bc-c64f-4044-92c4-889bdd6571d1"
      },
      "execution_count": 37,
      "outputs": [
        {
          "output_type": "execute_result",
          "data": {
            "text/plain": [
              "<matplotlib.axes._subplots.AxesSubplot at 0x7f6a79f765d0>"
            ]
          },
          "metadata": {},
          "execution_count": 37
        },
        {
          "output_type": "display_data",
          "data": {
            "text/plain": [
              "<Figure size 432x288 with 1 Axes>"
            ],
            "image/png": "[encoded data removed]"
          },
          "metadata": {
            "needs_background": "light"
          }
        }
      ]
    },
    {
      "cell_type": "code",
      "source": [
        "data['Classificação Escolarização'].value_counts()"
      ],
      "metadata": {
        "colab": {
          "base_uri": "https://localhost:8080/"
        },
        "id": "gOcuMOiNdLGI",
        "outputId": "70c7be38-8e9b-424b-bf64-d6f63e6ab202"
      },
      "execution_count": 38,
      "outputs": [
        {
          "output_type": "execute_result",
          "data": {
            "text/plain": [
              "Alta           179\n",
              "Média          165\n",
              "Baixa          149\n",
              "Muito Alta     137\n",
              "Muito Baixa     15\n",
              "Name: Classificação Escolarização, dtype: int64"
            ]
          },
          "metadata": {},
          "execution_count": 38
        }
      ]
    },
    {
      "cell_type": "markdown",
      "source": [
        "Como há apenas 15 outliers, talvez seja mais interessante (tendo em mente a aplicação desta distribuição) unir as classificações \"Muito Baixa\" e \"Baixa\"."
      ],
      "metadata": {
        "id": "vkgoYzOod-3O"
      }
    }
  ]
}