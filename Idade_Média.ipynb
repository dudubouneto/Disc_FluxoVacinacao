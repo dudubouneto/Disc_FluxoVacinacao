{
  "nbformat": 4,
  "nbformat_minor": 0,
  "metadata": {
    "colab": {
      "name": "Idade Média.ipynb",
      "provenance": [],
      "authorship_tag": "ABX9TyPP8VB2yjkQ9QSIxgQPXILv",
      "include_colab_link": true
    },
    "kernelspec": {
      "name": "python3",
      "display_name": "Python 3"
    },
    "language_info": {
      "name": "python"
    }
  },
  "cells": [
    {
      "cell_type": "markdown",
      "metadata": {
        "id": "view-in-github",
        "colab_type": "text"
      },
      "source": [
        "<a href=\"https://colab.research.google.com/github/dudubouneto/Disc_FluxoVacinacao/blob/main/Idade_M%C3%A9dia.ipynb\" target=\"_parent\"><img src=\"https://colab.research.google.com/assets/colab-badge.svg\" alt=\"Open In Colab\"/></a>"
      ]
    },
    {
      "cell_type": "code",
      "execution_count": 1,
      "metadata": {
        "id": "XUWT71rZ56xY"
      },
      "outputs": [],
      "source": [
        "import numpy as np\n",
        "import pandas as pd\n",
        "import matplotlib.pyplot as plt\n",
        "import seaborn as sns\n",
        "from google.colab import drive"
      ]
    },
    {
      "cell_type": "code",
      "source": [
        "drive.mount('/content/gdrive')"
      ],
      "metadata": {
        "colab": {
          "base_uri": "https://localhost:8080/"
        },
        "id": "5-vTAdoT6Hd1",
        "outputId": "4c0ebd40-a503-4f9a-fe82-78d7595f83ed"
      },
      "execution_count": 5,
      "outputs": [
        {
          "output_type": "stream",
          "name": "stdout",
          "text": [
            "Drive already mounted at /content/gdrive; to attempt to forcibly remount, call drive.mount(\"/content/gdrive\", force_remount=True).\n"
          ]
        }
      ]
    },
    {
      "cell_type": "code",
      "source": [
        "data = pd.read_csv('/content/gdrive/MyDrive/Colab Notebooks/Discretização das variáveis/Data/final_novo_ibge_sp - final_novo_ibge_sp_cpy.csv')"
      ],
      "metadata": {
        "id": "A1nMjfxO6Mlz"
      },
      "execution_count": 3,
      "outputs": []
    },
    {
      "cell_type": "code",
      "source": [
        "# https://stackoverflow.com/questions/71419895/utf-8-codec-cant-decode-byte-0xed\n",
        "idade_media = pd.read_csv('/content/gdrive/MyDrive/Colab Notebooks/Discretização das variáveis/Data/populacaoesp_2022_idade_media.csv', encoding='latin1', sep=';')"
      ],
      "metadata": {
        "id": "SJQz43UW6gWj"
      },
      "execution_count": 18,
      "outputs": []
    },
    {
      "cell_type": "code",
      "source": [
        "data.head()"
      ],
      "metadata": {
        "colab": {
          "base_uri": "https://localhost:8080/",
          "height": 496
        },
        "id": "rpg21SUG6rWC",
        "outputId": "b170fb66-b344-4498-a397-e2c5eb73809a"
      },
      "execution_count": 8,
      "outputs": [
        {
          "output_type": "execute_result",
          "data": {
            "text/plain": [
              "          Município  Codigo_IBGE      Gentílico  \\\n",
              "0        ADAMANTINA      3500105  adamantinense   \n",
              "1            ADOLFO      3500204       adolfino   \n",
              "2             AGUAÍ      3500303       aguaiano   \n",
              "3    ÁGUAS DA PRATA      3500402       pratense   \n",
              "4  ÁGUAS DE LINDÓIA      3500501     lindoiense   \n",
              "\n",
              "                           Prefeito Área Territorial  População Estimada  \\\n",
              "0                     MARCIO CARDIM              412               35111   \n",
              "1           IZAEL ANTONIO FERNANDES              211                3554   \n",
              "2  JOSÉ ALEXANDRE PEREIRA DE ARAÚJO              475               36648   \n",
              "3     REGINA HELENA JANIZELO MORAES              143                8221   \n",
              "4              GILBERTO ABDOU HELOU               60               18808   \n",
              "\n",
              "  Densidade Demográfica Escolarização 6 a 14 anos  IDHM Mortalidade Infantil  \\\n",
              "0                 82,15                      97,6   790                11,63   \n",
              "1                 16,85                      98,6   730                19,23   \n",
              "2                 67,72                      95,8   715                16,06   \n",
              "3                 53,05                      98,8   781                25,32   \n",
              "4                287,16                      96,2   745                 8,37   \n",
              "\n",
              "  Receitas Realizadas Despesas empenhadas PIB per capita Latitude Longitude  \\\n",
              "0      16,071,867,925      13,708,366,993       30962,66      -22      -511   \n",
              "1       2,733,374,731       2,010,387,713       25867,75     -212      -496   \n",
              "2       8,409,476,006       7,216,873,408       28041,03     -221      -470   \n",
              "3       2,939,024,814       2,436,340,149       20683,88     -219      -467   \n",
              "4       8,694,922,213       7,520,147,793       26427,34     -225      -466   \n",
              "\n",
              "   Postos vacinação  Hospitais  Médicos  \n",
              "0                 4          0        0  \n",
              "1                 1          0        0  \n",
              "2                 5          0        0  \n",
              "3                 1          0        0  \n",
              "4                 4          0        0  "
            ],
            "text/html": [
              "\n",
              "  <div id=\"df-5f1d7586-2d46-46c7-8a36-416306fe6422\">\n",
              "    <div class=\"colab-df-container\">\n",
              "      <div>\n",
              "<style scoped>\n",
              "    .dataframe tbody tr th:only-of-type {\n",
              "        vertical-align: middle;\n",
              "    }\n",
              "\n",
              "    .dataframe tbody tr th {\n",
              "        vertical-align: top;\n",
              "    }\n",
              "\n",
              "    .dataframe thead th {\n",
              "        text-align: right;\n",
              "    }\n",
              "</style>\n",
              "<table border=\"1\" class=\"dataframe\">\n",
              "  <thead>\n",
              "    <tr style=\"text-align: right;\">\n",
              "      <th></th>\n",
              "      <th>Município</th>\n",
              "      <th>Codigo_IBGE</th>\n",
              "      <th>Gentílico</th>\n",
              "      <th>Prefeito</th>\n",
              "      <th>Área Territorial</th>\n",
              "      <th>População Estimada</th>\n",
              "      <th>Densidade Demográfica</th>\n",
              "      <th>Escolarização 6 a 14 anos</th>\n",
              "      <th>IDHM</th>\n",
              "      <th>Mortalidade Infantil</th>\n",
              "      <th>Receitas Realizadas</th>\n",
              "      <th>Despesas empenhadas</th>\n",
              "      <th>PIB per capita</th>\n",
              "      <th>Latitude</th>\n",
              "      <th>Longitude</th>\n",
              "      <th>Postos vacinação</th>\n",
              "      <th>Hospitais</th>\n",
              "      <th>Médicos</th>\n",
              "    </tr>\n",
              "  </thead>\n",
              "  <tbody>\n",
              "    <tr>\n",
              "      <th>0</th>\n",
              "      <td>ADAMANTINA</td>\n",
              "      <td>3500105</td>\n",
              "      <td>adamantinense</td>\n",
              "      <td>MARCIO CARDIM</td>\n",
              "      <td>412</td>\n",
              "      <td>35111</td>\n",
              "      <td>82,15</td>\n",
              "      <td>97,6</td>\n",
              "      <td>790</td>\n",
              "      <td>11,63</td>\n",
              "      <td>16,071,867,925</td>\n",
              "      <td>13,708,366,993</td>\n",
              "      <td>30962,66</td>\n",
              "      <td>-22</td>\n",
              "      <td>-511</td>\n",
              "      <td>4</td>\n",
              "      <td>0</td>\n",
              "      <td>0</td>\n",
              "    </tr>\n",
              "    <tr>\n",
              "      <th>1</th>\n",
              "      <td>ADOLFO</td>\n",
              "      <td>3500204</td>\n",
              "      <td>adolfino</td>\n",
              "      <td>IZAEL ANTONIO FERNANDES</td>\n",
              "      <td>211</td>\n",
              "      <td>3554</td>\n",
              "      <td>16,85</td>\n",
              "      <td>98,6</td>\n",
              "      <td>730</td>\n",
              "      <td>19,23</td>\n",
              "      <td>2,733,374,731</td>\n",
              "      <td>2,010,387,713</td>\n",
              "      <td>25867,75</td>\n",
              "      <td>-212</td>\n",
              "      <td>-496</td>\n",
              "      <td>1</td>\n",
              "      <td>0</td>\n",
              "      <td>0</td>\n",
              "    </tr>\n",
              "    <tr>\n",
              "      <th>2</th>\n",
              "      <td>AGUAÍ</td>\n",
              "      <td>3500303</td>\n",
              "      <td>aguaiano</td>\n",
              "      <td>JOSÉ ALEXANDRE PEREIRA DE ARAÚJO</td>\n",
              "      <td>475</td>\n",
              "      <td>36648</td>\n",
              "      <td>67,72</td>\n",
              "      <td>95,8</td>\n",
              "      <td>715</td>\n",
              "      <td>16,06</td>\n",
              "      <td>8,409,476,006</td>\n",
              "      <td>7,216,873,408</td>\n",
              "      <td>28041,03</td>\n",
              "      <td>-221</td>\n",
              "      <td>-470</td>\n",
              "      <td>5</td>\n",
              "      <td>0</td>\n",
              "      <td>0</td>\n",
              "    </tr>\n",
              "    <tr>\n",
              "      <th>3</th>\n",
              "      <td>ÁGUAS DA PRATA</td>\n",
              "      <td>3500402</td>\n",
              "      <td>pratense</td>\n",
              "      <td>REGINA HELENA JANIZELO MORAES</td>\n",
              "      <td>143</td>\n",
              "      <td>8221</td>\n",
              "      <td>53,05</td>\n",
              "      <td>98,8</td>\n",
              "      <td>781</td>\n",
              "      <td>25,32</td>\n",
              "      <td>2,939,024,814</td>\n",
              "      <td>2,436,340,149</td>\n",
              "      <td>20683,88</td>\n",
              "      <td>-219</td>\n",
              "      <td>-467</td>\n",
              "      <td>1</td>\n",
              "      <td>0</td>\n",
              "      <td>0</td>\n",
              "    </tr>\n",
              "    <tr>\n",
              "      <th>4</th>\n",
              "      <td>ÁGUAS DE LINDÓIA</td>\n",
              "      <td>3500501</td>\n",
              "      <td>lindoiense</td>\n",
              "      <td>GILBERTO ABDOU HELOU</td>\n",
              "      <td>60</td>\n",
              "      <td>18808</td>\n",
              "      <td>287,16</td>\n",
              "      <td>96,2</td>\n",
              "      <td>745</td>\n",
              "      <td>8,37</td>\n",
              "      <td>8,694,922,213</td>\n",
              "      <td>7,520,147,793</td>\n",
              "      <td>26427,34</td>\n",
              "      <td>-225</td>\n",
              "      <td>-466</td>\n",
              "      <td>4</td>\n",
              "      <td>0</td>\n",
              "      <td>0</td>\n",
              "    </tr>\n",
              "  </tbody>\n",
              "</table>\n",
              "</div>\n",
              "      <button class=\"colab-df-convert\" onclick=\"convertToInteractive('df-5f1d7586-2d46-46c7-8a36-416306fe6422')\"\n",
              "              title=\"Convert this dataframe to an interactive table.\"\n",
              "              style=\"display:none;\">\n",
              "        \n",
              "  <svg xmlns=\"http://www.w3.org/2000/svg\" height=\"24px\"viewBox=\"0 0 24 24\"\n",
              "       width=\"24px\">\n",
              "    <path d=\"M0 0h24v24H0V0z\" fill=\"none\"/>\n",
              "    <path d=\"M18.56 5.44l.94 2.06.94-2.06 2.06-.94-2.06-.94-.94-2.06-.94 2.06-2.06.94zm-11 1L8.5 8.5l.94-2.06 2.06-.94-2.06-.94L8.5 2.5l-.94 2.06-2.06.94zm10 10l.94 2.06.94-2.06 2.06-.94-2.06-.94-.94-2.06-.94 2.06-2.06.94z\"/><path d=\"M17.41 7.96l-1.37-1.37c-.4-.4-.92-.59-1.43-.59-.52 0-1.04.2-1.43.59L10.3 9.45l-7.72 7.72c-.78.78-.78 2.05 0 2.83L4 21.41c.39.39.9.59 1.41.59.51 0 1.02-.2 1.41-.59l7.78-7.78 2.81-2.81c.8-.78.8-2.07 0-2.86zM5.41 20L4 18.59l7.72-7.72 1.47 1.35L5.41 20z\"/>\n",
              "  </svg>\n",
              "      </button>\n",
              "      \n",
              "  <style>\n",
              "    .colab-df-container {\n",
              "      display:flex;\n",
              "      flex-wrap:wrap;\n",
              "      gap: 12px;\n",
              "    }\n",
              "\n",
              "    .colab-df-convert {\n",
              "      background-color: #E8F0FE;\n",
              "      border: none;\n",
              "      border-radius: 50%;\n",
              "      cursor: pointer;\n",
              "      display: none;\n",
              "      fill: #1967D2;\n",
              "      height: 32px;\n",
              "      padding: 0 0 0 0;\n",
              "      width: 32px;\n",
              "    }\n",
              "\n",
              "    .colab-df-convert:hover {\n",
              "      background-color: #E2EBFA;\n",
              "      box-shadow: 0px 1px 2px rgba(60, 64, 67, 0.3), 0px 1px 3px 1px rgba(60, 64, 67, 0.15);\n",
              "      fill: #174EA6;\n",
              "    }\n",
              "\n",
              "    [theme=dark] .colab-df-convert {\n",
              "      background-color: #3B4455;\n",
              "      fill: #D2E3FC;\n",
              "    }\n",
              "\n",
              "    [theme=dark] .colab-df-convert:hover {\n",
              "      background-color: #434B5C;\n",
              "      box-shadow: 0px 1px 3px 1px rgba(0, 0, 0, 0.15);\n",
              "      filter: drop-shadow(0px 1px 2px rgba(0, 0, 0, 0.3));\n",
              "      fill: #FFFFFF;\n",
              "    }\n",
              "  </style>\n",
              "\n",
              "      <script>\n",
              "        const buttonEl =\n",
              "          document.querySelector('#df-5f1d7586-2d46-46c7-8a36-416306fe6422 button.colab-df-convert');\n",
              "        buttonEl.style.display =\n",
              "          google.colab.kernel.accessAllowed ? 'block' : 'none';\n",
              "\n",
              "        async function convertToInteractive(key) {\n",
              "          const element = document.querySelector('#df-5f1d7586-2d46-46c7-8a36-416306fe6422');\n",
              "          const dataTable =\n",
              "            await google.colab.kernel.invokeFunction('convertToInteractive',\n",
              "                                                     [key], {});\n",
              "          if (!dataTable) return;\n",
              "\n",
              "          const docLinkHtml = 'Like what you see? Visit the ' +\n",
              "            '<a target=\"_blank\" href=https://colab.research.google.com/notebooks/data_table.ipynb>data table notebook</a>'\n",
              "            + ' to learn more about interactive tables.';\n",
              "          element.innerHTML = '';\n",
              "          dataTable['output_type'] = 'display_data';\n",
              "          await google.colab.output.renderOutput(dataTable, element);\n",
              "          const docLink = document.createElement('div');\n",
              "          docLink.innerHTML = docLinkHtml;\n",
              "          element.appendChild(docLink);\n",
              "        }\n",
              "      </script>\n",
              "    </div>\n",
              "  </div>\n",
              "  "
            ]
          },
          "metadata": {},
          "execution_count": 8
        }
      ]
    },
    {
      "cell_type": "code",
      "source": [
        "idade_media.head()"
      ],
      "metadata": {
        "colab": {
          "base_uri": "https://localhost:8080/",
          "height": 206
        },
        "id": "5n_qRdj68Ukf",
        "outputId": "872c79f7-9d15-491a-9fdc-d56caed82496"
      },
      "execution_count": 11,
      "outputs": [
        {
          "output_type": "execute_result",
          "data": {
            "text/plain": [
              "   cod_ibge         municipio   ano idade_media classe_idade_media\n",
              "0   3500105        Adamantina  2022      41,00      De 39,0 a 45,9\n",
              "1   3500204            Adolfo  2022      40,90      De 39,0 a 45,9\n",
              "2   3500303             Aguaí  2022      35,90      De 35,0 a 36,9\n",
              "3   3500402    Águas da Prata  2022      40,90      De 39,0 a 45,9\n",
              "4   3500501  Águas de Lindóia  2022      37,90      De 37,0 a 38,9"
            ],
            "text/html": [
              "\n",
              "  <div id=\"df-7d57a1ac-1338-46d7-bd90-665c6be37fbc\">\n",
              "    <div class=\"colab-df-container\">\n",
              "      <div>\n",
              "<style scoped>\n",
              "    .dataframe tbody tr th:only-of-type {\n",
              "        vertical-align: middle;\n",
              "    }\n",
              "\n",
              "    .dataframe tbody tr th {\n",
              "        vertical-align: top;\n",
              "    }\n",
              "\n",
              "    .dataframe thead th {\n",
              "        text-align: right;\n",
              "    }\n",
              "</style>\n",
              "<table border=\"1\" class=\"dataframe\">\n",
              "  <thead>\n",
              "    <tr style=\"text-align: right;\">\n",
              "      <th></th>\n",
              "      <th>cod_ibge</th>\n",
              "      <th>municipio</th>\n",
              "      <th>ano</th>\n",
              "      <th>idade_media</th>\n",
              "      <th>classe_idade_media</th>\n",
              "    </tr>\n",
              "  </thead>\n",
              "  <tbody>\n",
              "    <tr>\n",
              "      <th>0</th>\n",
              "      <td>3500105</td>\n",
              "      <td>Adamantina</td>\n",
              "      <td>2022</td>\n",
              "      <td>41,00</td>\n",
              "      <td>De 39,0 a 45,9</td>\n",
              "    </tr>\n",
              "    <tr>\n",
              "      <th>1</th>\n",
              "      <td>3500204</td>\n",
              "      <td>Adolfo</td>\n",
              "      <td>2022</td>\n",
              "      <td>40,90</td>\n",
              "      <td>De 39,0 a 45,9</td>\n",
              "    </tr>\n",
              "    <tr>\n",
              "      <th>2</th>\n",
              "      <td>3500303</td>\n",
              "      <td>Aguaí</td>\n",
              "      <td>2022</td>\n",
              "      <td>35,90</td>\n",
              "      <td>De 35,0 a 36,9</td>\n",
              "    </tr>\n",
              "    <tr>\n",
              "      <th>3</th>\n",
              "      <td>3500402</td>\n",
              "      <td>Águas da Prata</td>\n",
              "      <td>2022</td>\n",
              "      <td>40,90</td>\n",
              "      <td>De 39,0 a 45,9</td>\n",
              "    </tr>\n",
              "    <tr>\n",
              "      <th>4</th>\n",
              "      <td>3500501</td>\n",
              "      <td>Águas de Lindóia</td>\n",
              "      <td>2022</td>\n",
              "      <td>37,90</td>\n",
              "      <td>De 37,0 a 38,9</td>\n",
              "    </tr>\n",
              "  </tbody>\n",
              "</table>\n",
              "</div>\n",
              "      <button class=\"colab-df-convert\" onclick=\"convertToInteractive('df-7d57a1ac-1338-46d7-bd90-665c6be37fbc')\"\n",
              "              title=\"Convert this dataframe to an interactive table.\"\n",
              "              style=\"display:none;\">\n",
              "        \n",
              "  <svg xmlns=\"http://www.w3.org/2000/svg\" height=\"24px\"viewBox=\"0 0 24 24\"\n",
              "       width=\"24px\">\n",
              "    <path d=\"M0 0h24v24H0V0z\" fill=\"none\"/>\n",
              "    <path d=\"M18.56 5.44l.94 2.06.94-2.06 2.06-.94-2.06-.94-.94-2.06-.94 2.06-2.06.94zm-11 1L8.5 8.5l.94-2.06 2.06-.94-2.06-.94L8.5 2.5l-.94 2.06-2.06.94zm10 10l.94 2.06.94-2.06 2.06-.94-2.06-.94-.94-2.06-.94 2.06-2.06.94z\"/><path d=\"M17.41 7.96l-1.37-1.37c-.4-.4-.92-.59-1.43-.59-.52 0-1.04.2-1.43.59L10.3 9.45l-7.72 7.72c-.78.78-.78 2.05 0 2.83L4 21.41c.39.39.9.59 1.41.59.51 0 1.02-.2 1.41-.59l7.78-7.78 2.81-2.81c.8-.78.8-2.07 0-2.86zM5.41 20L4 18.59l7.72-7.72 1.47 1.35L5.41 20z\"/>\n",
              "  </svg>\n",
              "      </button>\n",
              "      \n",
              "  <style>\n",
              "    .colab-df-container {\n",
              "      display:flex;\n",
              "      flex-wrap:wrap;\n",
              "      gap: 12px;\n",
              "    }\n",
              "\n",
              "    .colab-df-convert {\n",
              "      background-color: #E8F0FE;\n",
              "      border: none;\n",
              "      border-radius: 50%;\n",
              "      cursor: pointer;\n",
              "      display: none;\n",
              "      fill: #1967D2;\n",
              "      height: 32px;\n",
              "      padding: 0 0 0 0;\n",
              "      width: 32px;\n",
              "    }\n",
              "\n",
              "    .colab-df-convert:hover {\n",
              "      background-color: #E2EBFA;\n",
              "      box-shadow: 0px 1px 2px rgba(60, 64, 67, 0.3), 0px 1px 3px 1px rgba(60, 64, 67, 0.15);\n",
              "      fill: #174EA6;\n",
              "    }\n",
              "\n",
              "    [theme=dark] .colab-df-convert {\n",
              "      background-color: #3B4455;\n",
              "      fill: #D2E3FC;\n",
              "    }\n",
              "\n",
              "    [theme=dark] .colab-df-convert:hover {\n",
              "      background-color: #434B5C;\n",
              "      box-shadow: 0px 1px 3px 1px rgba(0, 0, 0, 0.15);\n",
              "      filter: drop-shadow(0px 1px 2px rgba(0, 0, 0, 0.3));\n",
              "      fill: #FFFFFF;\n",
              "    }\n",
              "  </style>\n",
              "\n",
              "      <script>\n",
              "        const buttonEl =\n",
              "          document.querySelector('#df-7d57a1ac-1338-46d7-bd90-665c6be37fbc button.colab-df-convert');\n",
              "        buttonEl.style.display =\n",
              "          google.colab.kernel.accessAllowed ? 'block' : 'none';\n",
              "\n",
              "        async function convertToInteractive(key) {\n",
              "          const element = document.querySelector('#df-7d57a1ac-1338-46d7-bd90-665c6be37fbc');\n",
              "          const dataTable =\n",
              "            await google.colab.kernel.invokeFunction('convertToInteractive',\n",
              "                                                     [key], {});\n",
              "          if (!dataTable) return;\n",
              "\n",
              "          const docLinkHtml = 'Like what you see? Visit the ' +\n",
              "            '<a target=\"_blank\" href=https://colab.research.google.com/notebooks/data_table.ipynb>data table notebook</a>'\n",
              "            + ' to learn more about interactive tables.';\n",
              "          element.innerHTML = '';\n",
              "          dataTable['output_type'] = 'display_data';\n",
              "          await google.colab.output.renderOutput(dataTable, element);\n",
              "          const docLink = document.createElement('div');\n",
              "          docLink.innerHTML = docLinkHtml;\n",
              "          element.appendChild(docLink);\n",
              "        }\n",
              "      </script>\n",
              "    </div>\n",
              "  </div>\n",
              "  "
            ]
          },
          "metadata": {},
          "execution_count": 11
        }
      ]
    },
    {
      "cell_type": "code",
      "source": [
        "data = data[['Município', 'Codigo_IBGE']]"
      ],
      "metadata": {
        "id": "dTGt09OC91hA"
      },
      "execution_count": 23,
      "outputs": []
    },
    {
      "cell_type": "code",
      "source": [
        "idade_media.drop(['municipio', 'ano'], axis=1, inplace=True)"
      ],
      "metadata": {
        "id": "-OhYYIjD9QnA"
      },
      "execution_count": 20,
      "outputs": []
    },
    {
      "cell_type": "code",
      "source": [
        "data.info()"
      ],
      "metadata": {
        "colab": {
          "base_uri": "https://localhost:8080/"
        },
        "id": "GhAlvJ7A8lNL",
        "outputId": "358e0f8b-3e8e-4cbe-a125-5321611b540e"
      },
      "execution_count": 24,
      "outputs": [
        {
          "output_type": "stream",
          "name": "stdout",
          "text": [
            "<class 'pandas.core.frame.DataFrame'>\n",
            "RangeIndex: 645 entries, 0 to 644\n",
            "Data columns (total 2 columns):\n",
            " #   Column       Non-Null Count  Dtype \n",
            "---  ------       --------------  ----- \n",
            " 0   Município    645 non-null    object\n",
            " 1   Codigo_IBGE  645 non-null    int64 \n",
            "dtypes: int64(1), object(1)\n",
            "memory usage: 10.2+ KB\n"
          ]
        }
      ]
    },
    {
      "cell_type": "code",
      "source": [
        "idade_media.info()"
      ],
      "metadata": {
        "colab": {
          "base_uri": "https://localhost:8080/"
        },
        "id": "fcMMFLiJ8nKK",
        "outputId": "d5e89f01-0788-4d53-9dde-63650e634d5d"
      },
      "execution_count": 21,
      "outputs": [
        {
          "output_type": "stream",
          "name": "stdout",
          "text": [
            "<class 'pandas.core.frame.DataFrame'>\n",
            "RangeIndex: 645 entries, 0 to 644\n",
            "Data columns (total 3 columns):\n",
            " #   Column              Non-Null Count  Dtype \n",
            "---  ------              --------------  ----- \n",
            " 0   cod_ibge            645 non-null    int64 \n",
            " 1   idade_media         645 non-null    object\n",
            " 2   classe_idade_media  645 non-null    object\n",
            "dtypes: int64(1), object(2)\n",
            "memory usage: 15.2+ KB\n"
          ]
        }
      ]
    },
    {
      "cell_type": "markdown",
      "source": [
        "##Juntando os DFs"
      ],
      "metadata": {
        "id": "kExR_sH18pk6"
      }
    },
    {
      "cell_type": "code",
      "source": [
        "idade_media_final = pd.merge(data, idade_media, left_on='Codigo_IBGE', right_on='cod_ibge', how='inner').drop(['cod_ibge'], axis=1)"
      ],
      "metadata": {
        "id": "dlNbUH3t8r58"
      },
      "execution_count": 30,
      "outputs": []
    },
    {
      "cell_type": "code",
      "source": [
        "idade_media_final"
      ],
      "metadata": {
        "colab": {
          "base_uri": "https://localhost:8080/",
          "height": 424
        },
        "id": "S7lG7d5hBEhp",
        "outputId": "eea17546-5ddd-42d7-bd06-a19cf041542e"
      },
      "execution_count": 32,
      "outputs": [
        {
          "output_type": "execute_result",
          "data": {
            "text/plain": [
              "            Município  Codigo_IBGE idade_media classe_idade_media\n",
              "0          ADAMANTINA      3500105      41,00      De 39,0 a 45,9\n",
              "1              ADOLFO      3500204      40,90      De 39,0 a 45,9\n",
              "2               AGUAÍ      3500303      35,90      De 35,0 a 36,9\n",
              "3      ÁGUAS DA PRATA      3500402      40,90      De 39,0 a 45,9\n",
              "4    ÁGUAS DE LINDÓIA      3500501      37,90      De 37,0 a 38,9\n",
              "..                ...          ...         ...                ...\n",
              "640        VOTORANTIM      3557006      35,70      De 35,0 a 36,9\n",
              "641       VOTUPORANGA      3557105      39,60      De 39,0 a 45,9\n",
              "642          ZACARIAS      3557154      39,30      De 39,0 a 45,9\n",
              "643         CHAVANTES      3557204      36,90      De 35,0 a 36,9\n",
              "644      ESTIVA GERBI      3557303      36,90      De 35,0 a 36,9\n",
              "\n",
              "[645 rows x 4 columns]"
            ],
            "text/html": [
              "\n",
              "  <div id=\"df-ff3aa03a-a96f-4716-aae6-629ed4de0cf9\">\n",
              "    <div class=\"colab-df-container\">\n",
              "      <div>\n",
              "<style scoped>\n",
              "    .dataframe tbody tr th:only-of-type {\n",
              "        vertical-align: middle;\n",
              "    }\n",
              "\n",
              "    .dataframe tbody tr th {\n",
              "        vertical-align: top;\n",
              "    }\n",
              "\n",
              "    .dataframe thead th {\n",
              "        text-align: right;\n",
              "    }\n",
              "</style>\n",
              "<table border=\"1\" class=\"dataframe\">\n",
              "  <thead>\n",
              "    <tr style=\"text-align: right;\">\n",
              "      <th></th>\n",
              "      <th>Município</th>\n",
              "      <th>Codigo_IBGE</th>\n",
              "      <th>idade_media</th>\n",
              "      <th>classe_idade_media</th>\n",
              "    </tr>\n",
              "  </thead>\n",
              "  <tbody>\n",
              "    <tr>\n",
              "      <th>0</th>\n",
              "      <td>ADAMANTINA</td>\n",
              "      <td>3500105</td>\n",
              "      <td>41,00</td>\n",
              "      <td>De 39,0 a 45,9</td>\n",
              "    </tr>\n",
              "    <tr>\n",
              "      <th>1</th>\n",
              "      <td>ADOLFO</td>\n",
              "      <td>3500204</td>\n",
              "      <td>40,90</td>\n",
              "      <td>De 39,0 a 45,9</td>\n",
              "    </tr>\n",
              "    <tr>\n",
              "      <th>2</th>\n",
              "      <td>AGUAÍ</td>\n",
              "      <td>3500303</td>\n",
              "      <td>35,90</td>\n",
              "      <td>De 35,0 a 36,9</td>\n",
              "    </tr>\n",
              "    <tr>\n",
              "      <th>3</th>\n",
              "      <td>ÁGUAS DA PRATA</td>\n",
              "      <td>3500402</td>\n",
              "      <td>40,90</td>\n",
              "      <td>De 39,0 a 45,9</td>\n",
              "    </tr>\n",
              "    <tr>\n",
              "      <th>4</th>\n",
              "      <td>ÁGUAS DE LINDÓIA</td>\n",
              "      <td>3500501</td>\n",
              "      <td>37,90</td>\n",
              "      <td>De 37,0 a 38,9</td>\n",
              "    </tr>\n",
              "    <tr>\n",
              "      <th>...</th>\n",
              "      <td>...</td>\n",
              "      <td>...</td>\n",
              "      <td>...</td>\n",
              "      <td>...</td>\n",
              "    </tr>\n",
              "    <tr>\n",
              "      <th>640</th>\n",
              "      <td>VOTORANTIM</td>\n",
              "      <td>3557006</td>\n",
              "      <td>35,70</td>\n",
              "      <td>De 35,0 a 36,9</td>\n",
              "    </tr>\n",
              "    <tr>\n",
              "      <th>641</th>\n",
              "      <td>VOTUPORANGA</td>\n",
              "      <td>3557105</td>\n",
              "      <td>39,60</td>\n",
              "      <td>De 39,0 a 45,9</td>\n",
              "    </tr>\n",
              "    <tr>\n",
              "      <th>642</th>\n",
              "      <td>ZACARIAS</td>\n",
              "      <td>3557154</td>\n",
              "      <td>39,30</td>\n",
              "      <td>De 39,0 a 45,9</td>\n",
              "    </tr>\n",
              "    <tr>\n",
              "      <th>643</th>\n",
              "      <td>CHAVANTES</td>\n",
              "      <td>3557204</td>\n",
              "      <td>36,90</td>\n",
              "      <td>De 35,0 a 36,9</td>\n",
              "    </tr>\n",
              "    <tr>\n",
              "      <th>644</th>\n",
              "      <td>ESTIVA GERBI</td>\n",
              "      <td>3557303</td>\n",
              "      <td>36,90</td>\n",
              "      <td>De 35,0 a 36,9</td>\n",
              "    </tr>\n",
              "  </tbody>\n",
              "</table>\n",
              "<p>645 rows × 4 columns</p>\n",
              "</div>\n",
              "      <button class=\"colab-df-convert\" onclick=\"convertToInteractive('df-ff3aa03a-a96f-4716-aae6-629ed4de0cf9')\"\n",
              "              title=\"Convert this dataframe to an interactive table.\"\n",
              "              style=\"display:none;\">\n",
              "        \n",
              "  <svg xmlns=\"http://www.w3.org/2000/svg\" height=\"24px\"viewBox=\"0 0 24 24\"\n",
              "       width=\"24px\">\n",
              "    <path d=\"M0 0h24v24H0V0z\" fill=\"none\"/>\n",
              "    <path d=\"M18.56 5.44l.94 2.06.94-2.06 2.06-.94-2.06-.94-.94-2.06-.94 2.06-2.06.94zm-11 1L8.5 8.5l.94-2.06 2.06-.94-2.06-.94L8.5 2.5l-.94 2.06-2.06.94zm10 10l.94 2.06.94-2.06 2.06-.94-2.06-.94-.94-2.06-.94 2.06-2.06.94z\"/><path d=\"M17.41 7.96l-1.37-1.37c-.4-.4-.92-.59-1.43-.59-.52 0-1.04.2-1.43.59L10.3 9.45l-7.72 7.72c-.78.78-.78 2.05 0 2.83L4 21.41c.39.39.9.59 1.41.59.51 0 1.02-.2 1.41-.59l7.78-7.78 2.81-2.81c.8-.78.8-2.07 0-2.86zM5.41 20L4 18.59l7.72-7.72 1.47 1.35L5.41 20z\"/>\n",
              "  </svg>\n",
              "      </button>\n",
              "      \n",
              "  <style>\n",
              "    .colab-df-container {\n",
              "      display:flex;\n",
              "      flex-wrap:wrap;\n",
              "      gap: 12px;\n",
              "    }\n",
              "\n",
              "    .colab-df-convert {\n",
              "      background-color: #E8F0FE;\n",
              "      border: none;\n",
              "      border-radius: 50%;\n",
              "      cursor: pointer;\n",
              "      display: none;\n",
              "      fill: #1967D2;\n",
              "      height: 32px;\n",
              "      padding: 0 0 0 0;\n",
              "      width: 32px;\n",
              "    }\n",
              "\n",
              "    .colab-df-convert:hover {\n",
              "      background-color: #E2EBFA;\n",
              "      box-shadow: 0px 1px 2px rgba(60, 64, 67, 0.3), 0px 1px 3px 1px rgba(60, 64, 67, 0.15);\n",
              "      fill: #174EA6;\n",
              "    }\n",
              "\n",
              "    [theme=dark] .colab-df-convert {\n",
              "      background-color: #3B4455;\n",
              "      fill: #D2E3FC;\n",
              "    }\n",
              "\n",
              "    [theme=dark] .colab-df-convert:hover {\n",
              "      background-color: #434B5C;\n",
              "      box-shadow: 0px 1px 3px 1px rgba(0, 0, 0, 0.15);\n",
              "      filter: drop-shadow(0px 1px 2px rgba(0, 0, 0, 0.3));\n",
              "      fill: #FFFFFF;\n",
              "    }\n",
              "  </style>\n",
              "\n",
              "      <script>\n",
              "        const buttonEl =\n",
              "          document.querySelector('#df-ff3aa03a-a96f-4716-aae6-629ed4de0cf9 button.colab-df-convert');\n",
              "        buttonEl.style.display =\n",
              "          google.colab.kernel.accessAllowed ? 'block' : 'none';\n",
              "\n",
              "        async function convertToInteractive(key) {\n",
              "          const element = document.querySelector('#df-ff3aa03a-a96f-4716-aae6-629ed4de0cf9');\n",
              "          const dataTable =\n",
              "            await google.colab.kernel.invokeFunction('convertToInteractive',\n",
              "                                                     [key], {});\n",
              "          if (!dataTable) return;\n",
              "\n",
              "          const docLinkHtml = 'Like what you see? Visit the ' +\n",
              "            '<a target=\"_blank\" href=https://colab.research.google.com/notebooks/data_table.ipynb>data table notebook</a>'\n",
              "            + ' to learn more about interactive tables.';\n",
              "          element.innerHTML = '';\n",
              "          dataTable['output_type'] = 'display_data';\n",
              "          await google.colab.output.renderOutput(dataTable, element);\n",
              "          const docLink = document.createElement('div');\n",
              "          docLink.innerHTML = docLinkHtml;\n",
              "          element.appendChild(docLink);\n",
              "        }\n",
              "      </script>\n",
              "    </div>\n",
              "  </div>\n",
              "  "
            ]
          },
          "metadata": {},
          "execution_count": 32
        }
      ]
    },
    {
      "cell_type": "code",
      "source": [
        "idade_media_final.info()"
      ],
      "metadata": {
        "colab": {
          "base_uri": "https://localhost:8080/"
        },
        "id": "A6aCq0kBBBTF",
        "outputId": "ab46109e-23ec-4479-e65e-f4a6a8adf9e7"
      },
      "execution_count": 31,
      "outputs": [
        {
          "output_type": "stream",
          "name": "stdout",
          "text": [
            "<class 'pandas.core.frame.DataFrame'>\n",
            "Int64Index: 645 entries, 0 to 644\n",
            "Data columns (total 4 columns):\n",
            " #   Column              Non-Null Count  Dtype \n",
            "---  ------              --------------  ----- \n",
            " 0   Município           645 non-null    object\n",
            " 1   Codigo_IBGE         645 non-null    int64 \n",
            " 2   idade_media         645 non-null    object\n",
            " 3   classe_idade_media  645 non-null    object\n",
            "dtypes: int64(1), object(3)\n",
            "memory usage: 25.2+ KB\n"
          ]
        }
      ]
    },
    {
      "cell_type": "markdown",
      "source": [
        "##Convertendo ```idade_media``` para float64"
      ],
      "metadata": {
        "id": "8gMycEi_BKwR"
      }
    },
    {
      "cell_type": "code",
      "source": [
        "def toFloat_age(x):\n",
        "  age = x.replace(',','')\n",
        "  age = float(age)\n",
        "  age = age/100\n",
        "  return age\n",
        "idade_media_final['idade_media'] = idade_media_final['idade_media'].apply(toFloat_age)"
      ],
      "metadata": {
        "id": "jT_dZKHpBJwZ"
      },
      "execution_count": 37,
      "outputs": []
    },
    {
      "cell_type": "code",
      "source": [
        "idade_media_final.head()"
      ],
      "metadata": {
        "colab": {
          "base_uri": "https://localhost:8080/",
          "height": 206
        },
        "id": "FBitgLceCJ9g",
        "outputId": "6e962868-ce98-425d-f719-b9b08e43c979"
      },
      "execution_count": 40,
      "outputs": [
        {
          "output_type": "execute_result",
          "data": {
            "text/plain": [
              "          Município  Codigo_IBGE  idade_media classe_idade_media\n",
              "0        ADAMANTINA      3500105         41.0     De 39,0 a 45,9\n",
              "1            ADOLFO      3500204         40.9     De 39,0 a 45,9\n",
              "2             AGUAÍ      3500303         35.9     De 35,0 a 36,9\n",
              "3    ÁGUAS DA PRATA      3500402         40.9     De 39,0 a 45,9\n",
              "4  ÁGUAS DE LINDÓIA      3500501         37.9     De 37,0 a 38,9"
            ],
            "text/html": [
              "\n",
              "  <div id=\"df-7fe0ea77-402c-4064-9553-d1916f8fbaa5\">\n",
              "    <div class=\"colab-df-container\">\n",
              "      <div>\n",
              "<style scoped>\n",
              "    .dataframe tbody tr th:only-of-type {\n",
              "        vertical-align: middle;\n",
              "    }\n",
              "\n",
              "    .dataframe tbody tr th {\n",
              "        vertical-align: top;\n",
              "    }\n",
              "\n",
              "    .dataframe thead th {\n",
              "        text-align: right;\n",
              "    }\n",
              "</style>\n",
              "<table border=\"1\" class=\"dataframe\">\n",
              "  <thead>\n",
              "    <tr style=\"text-align: right;\">\n",
              "      <th></th>\n",
              "      <th>Município</th>\n",
              "      <th>Codigo_IBGE</th>\n",
              "      <th>idade_media</th>\n",
              "      <th>classe_idade_media</th>\n",
              "    </tr>\n",
              "  </thead>\n",
              "  <tbody>\n",
              "    <tr>\n",
              "      <th>0</th>\n",
              "      <td>ADAMANTINA</td>\n",
              "      <td>3500105</td>\n",
              "      <td>41.0</td>\n",
              "      <td>De 39,0 a 45,9</td>\n",
              "    </tr>\n",
              "    <tr>\n",
              "      <th>1</th>\n",
              "      <td>ADOLFO</td>\n",
              "      <td>3500204</td>\n",
              "      <td>40.9</td>\n",
              "      <td>De 39,0 a 45,9</td>\n",
              "    </tr>\n",
              "    <tr>\n",
              "      <th>2</th>\n",
              "      <td>AGUAÍ</td>\n",
              "      <td>3500303</td>\n",
              "      <td>35.9</td>\n",
              "      <td>De 35,0 a 36,9</td>\n",
              "    </tr>\n",
              "    <tr>\n",
              "      <th>3</th>\n",
              "      <td>ÁGUAS DA PRATA</td>\n",
              "      <td>3500402</td>\n",
              "      <td>40.9</td>\n",
              "      <td>De 39,0 a 45,9</td>\n",
              "    </tr>\n",
              "    <tr>\n",
              "      <th>4</th>\n",
              "      <td>ÁGUAS DE LINDÓIA</td>\n",
              "      <td>3500501</td>\n",
              "      <td>37.9</td>\n",
              "      <td>De 37,0 a 38,9</td>\n",
              "    </tr>\n",
              "  </tbody>\n",
              "</table>\n",
              "</div>\n",
              "      <button class=\"colab-df-convert\" onclick=\"convertToInteractive('df-7fe0ea77-402c-4064-9553-d1916f8fbaa5')\"\n",
              "              title=\"Convert this dataframe to an interactive table.\"\n",
              "              style=\"display:none;\">\n",
              "        \n",
              "  <svg xmlns=\"http://www.w3.org/2000/svg\" height=\"24px\"viewBox=\"0 0 24 24\"\n",
              "       width=\"24px\">\n",
              "    <path d=\"M0 0h24v24H0V0z\" fill=\"none\"/>\n",
              "    <path d=\"M18.56 5.44l.94 2.06.94-2.06 2.06-.94-2.06-.94-.94-2.06-.94 2.06-2.06.94zm-11 1L8.5 8.5l.94-2.06 2.06-.94-2.06-.94L8.5 2.5l-.94 2.06-2.06.94zm10 10l.94 2.06.94-2.06 2.06-.94-2.06-.94-.94-2.06-.94 2.06-2.06.94z\"/><path d=\"M17.41 7.96l-1.37-1.37c-.4-.4-.92-.59-1.43-.59-.52 0-1.04.2-1.43.59L10.3 9.45l-7.72 7.72c-.78.78-.78 2.05 0 2.83L4 21.41c.39.39.9.59 1.41.59.51 0 1.02-.2 1.41-.59l7.78-7.78 2.81-2.81c.8-.78.8-2.07 0-2.86zM5.41 20L4 18.59l7.72-7.72 1.47 1.35L5.41 20z\"/>\n",
              "  </svg>\n",
              "      </button>\n",
              "      \n",
              "  <style>\n",
              "    .colab-df-container {\n",
              "      display:flex;\n",
              "      flex-wrap:wrap;\n",
              "      gap: 12px;\n",
              "    }\n",
              "\n",
              "    .colab-df-convert {\n",
              "      background-color: #E8F0FE;\n",
              "      border: none;\n",
              "      border-radius: 50%;\n",
              "      cursor: pointer;\n",
              "      display: none;\n",
              "      fill: #1967D2;\n",
              "      height: 32px;\n",
              "      padding: 0 0 0 0;\n",
              "      width: 32px;\n",
              "    }\n",
              "\n",
              "    .colab-df-convert:hover {\n",
              "      background-color: #E2EBFA;\n",
              "      box-shadow: 0px 1px 2px rgba(60, 64, 67, 0.3), 0px 1px 3px 1px rgba(60, 64, 67, 0.15);\n",
              "      fill: #174EA6;\n",
              "    }\n",
              "\n",
              "    [theme=dark] .colab-df-convert {\n",
              "      background-color: #3B4455;\n",
              "      fill: #D2E3FC;\n",
              "    }\n",
              "\n",
              "    [theme=dark] .colab-df-convert:hover {\n",
              "      background-color: #434B5C;\n",
              "      box-shadow: 0px 1px 3px 1px rgba(0, 0, 0, 0.15);\n",
              "      filter: drop-shadow(0px 1px 2px rgba(0, 0, 0, 0.3));\n",
              "      fill: #FFFFFF;\n",
              "    }\n",
              "  </style>\n",
              "\n",
              "      <script>\n",
              "        const buttonEl =\n",
              "          document.querySelector('#df-7fe0ea77-402c-4064-9553-d1916f8fbaa5 button.colab-df-convert');\n",
              "        buttonEl.style.display =\n",
              "          google.colab.kernel.accessAllowed ? 'block' : 'none';\n",
              "\n",
              "        async function convertToInteractive(key) {\n",
              "          const element = document.querySelector('#df-7fe0ea77-402c-4064-9553-d1916f8fbaa5');\n",
              "          const dataTable =\n",
              "            await google.colab.kernel.invokeFunction('convertToInteractive',\n",
              "                                                     [key], {});\n",
              "          if (!dataTable) return;\n",
              "\n",
              "          const docLinkHtml = 'Like what you see? Visit the ' +\n",
              "            '<a target=\"_blank\" href=https://colab.research.google.com/notebooks/data_table.ipynb>data table notebook</a>'\n",
              "            + ' to learn more about interactive tables.';\n",
              "          element.innerHTML = '';\n",
              "          dataTable['output_type'] = 'display_data';\n",
              "          await google.colab.output.renderOutput(dataTable, element);\n",
              "          const docLink = document.createElement('div');\n",
              "          docLink.innerHTML = docLinkHtml;\n",
              "          element.appendChild(docLink);\n",
              "        }\n",
              "      </script>\n",
              "    </div>\n",
              "  </div>\n",
              "  "
            ]
          },
          "metadata": {},
          "execution_count": 40
        }
      ]
    },
    {
      "cell_type": "code",
      "source": [
        "idade_media_final.info()"
      ],
      "metadata": {
        "colab": {
          "base_uri": "https://localhost:8080/"
        },
        "id": "AdYGipQGCO3t",
        "outputId": "1b0552bc-977a-4143-a2fd-e5e3ceaa7051"
      },
      "execution_count": 41,
      "outputs": [
        {
          "output_type": "stream",
          "name": "stdout",
          "text": [
            "<class 'pandas.core.frame.DataFrame'>\n",
            "Int64Index: 645 entries, 0 to 644\n",
            "Data columns (total 4 columns):\n",
            " #   Column              Non-Null Count  Dtype  \n",
            "---  ------              --------------  -----  \n",
            " 0   Município           645 non-null    object \n",
            " 1   Codigo_IBGE         645 non-null    int64  \n",
            " 2   idade_media         645 non-null    float64\n",
            " 3   classe_idade_media  645 non-null    object \n",
            "dtypes: float64(1), int64(1), object(2)\n",
            "memory usage: 25.2+ KB\n"
          ]
        }
      ]
    },
    {
      "cell_type": "markdown",
      "source": [
        "##Ordenando ```classe_idade_media```"
      ],
      "metadata": {
        "id": "0RtRUitMC3So"
      }
    },
    {
      "cell_type": "code",
      "source": [
        "bkp = idade_media_final"
      ],
      "metadata": {
        "id": "7ZTn4vGYFKdH"
      },
      "execution_count": 47,
      "outputs": []
    },
    {
      "cell_type": "code",
      "source": [
        "classes = ['De 31,9 a 34,9',\n",
        "           'De 35,0 a 36,9',\n",
        "           'De 37,0 a 38,9',\n",
        "           'De 39,0 a 45,9']\n",
        "idade_media_final['classe_idade_media'] = pd.Categorical(idade_media_final['classe_idade_media'], classes, ordered=True)"
      ],
      "metadata": {
        "id": "GwqBVcTuC6b0"
      },
      "execution_count": 51,
      "outputs": []
    },
    {
      "cell_type": "code",
      "source": [
        "idade_media_final['classe_idade_media']"
      ],
      "metadata": {
        "colab": {
          "base_uri": "https://localhost:8080/"
        },
        "id": "eDLZ-54NGFjW",
        "outputId": "70224dd3-c831-4f8e-903c-32a2a8d2d2d4"
      },
      "execution_count": 52,
      "outputs": [
        {
          "output_type": "execute_result",
          "data": {
            "text/plain": [
              "0      De 39,0 a 45,9\n",
              "1      De 39,0 a 45,9\n",
              "2      De 35,0 a 36,9\n",
              "3      De 39,0 a 45,9\n",
              "4      De 37,0 a 38,9\n",
              "            ...      \n",
              "640    De 35,0 a 36,9\n",
              "641    De 39,0 a 45,9\n",
              "642    De 39,0 a 45,9\n",
              "643    De 35,0 a 36,9\n",
              "644    De 35,0 a 36,9\n",
              "Name: classe_idade_media, Length: 645, dtype: category\n",
              "Categories (4, object): ['De 31,9 a 34,9' < 'De 35,0 a 36,9' < 'De 37,0 a 38,9' < 'De 39,0 a 45,9']"
            ]
          },
          "metadata": {},
          "execution_count": 52
        }
      ]
    },
    {
      "cell_type": "markdown",
      "source": [
        "##Analisando a distribuição proposta pela SEADE"
      ],
      "metadata": {
        "id": "a3ApoS9ECSfd"
      }
    },
    {
      "cell_type": "code",
      "source": [
        "sns.countplot(data=idade_media_final, x='classe_idade_media')"
      ],
      "metadata": {
        "colab": {
          "base_uri": "https://localhost:8080/",
          "height": 298
        },
        "id": "dvukxt_ECW-C",
        "outputId": "bb117462-2b0f-4ddc-a3a9-904eecb22ce0"
      },
      "execution_count": 53,
      "outputs": [
        {
          "output_type": "execute_result",
          "data": {
            "text/plain": [
              "<matplotlib.axes._subplots.AxesSubplot at 0x7ff6562f5ed0>"
            ]
          },
          "metadata": {},
          "execution_count": 53
        },
        {
          "output_type": "display_data",
          "data": {
            "text/plain": [
              "<Figure size 432x288 with 1 Axes>"
            ],
            "image/png": "[encoded data removed]"
          },
          "metadata": {
            "needs_background": "light"
          }
        }
      ]
    },
    {
      "cell_type": "code",
      "source": [
        "idade_media_final['idade_media'].describe()"
      ],
      "metadata": {
        "colab": {
          "base_uri": "https://localhost:8080/"
        },
        "id": "FJZIIHanCobV",
        "outputId": "b32bba5f-062c-4447-fdbd-97ba9d28bdcd"
      },
      "execution_count": 45,
      "outputs": [
        {
          "output_type": "execute_result",
          "data": {
            "text/plain": [
              "count    645.000000\n",
              "mean      37.502171\n",
              "std        2.259829\n",
              "min       31.900000\n",
              "25%       35.800000\n",
              "50%       37.400000\n",
              "75%       38.900000\n",
              "max       45.900000\n",
              "Name: idade_media, dtype: float64"
            ]
          },
          "metadata": {},
          "execution_count": 45
        }
      ]
    },
    {
      "cell_type": "code",
      "source": [
        "idade_media_final['classe_idade_media'].value_counts()"
      ],
      "metadata": {
        "colab": {
          "base_uri": "https://localhost:8080/"
        },
        "id": "MyG8nR9rHIbM",
        "outputId": "102d514d-3448-49cb-c325-53bbdad473da"
      },
      "execution_count": 54,
      "outputs": [
        {
          "output_type": "execute_result",
          "data": {
            "text/plain": [
              "De 37,0 a 38,9    209\n",
              "De 35,0 a 36,9    193\n",
              "De 39,0 a 45,9    161\n",
              "De 31,9 a 34,9     82\n",
              "Name: classe_idade_media, dtype: int64"
            ]
          },
          "metadata": {},
          "execution_count": 54
        }
      ]
    },
    {
      "cell_type": "markdown",
      "source": [
        "Como é possível observar, a discretização proposta pela SEADE se aproxima de uma categorização por quartis. A maior categoria engloba 209 cidades, isto é, ~32% do dataset."
      ],
      "metadata": {
        "id": "62DOCrVAGQLH"
      }
    },
    {
      "cell_type": "code",
      "source": [
        "209/645"
      ],
      "metadata": {
        "colab": {
          "base_uri": "https://localhost:8080/"
        },
        "id": "9K0zWvzrHDdk",
        "outputId": "139a5c1f-8b3e-4939-bb91-90d023af74df"
      },
      "execution_count": 55,
      "outputs": [
        {
          "output_type": "execute_result",
          "data": {
            "text/plain": [
              "0.324031007751938"
            ]
          },
          "metadata": {},
          "execution_count": 55
        }
      ]
    }
  ]
}